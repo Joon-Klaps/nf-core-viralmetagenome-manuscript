{
 "cells": [
  {
   "cell_type": "code",
   "execution_count": 4,
   "id": "bca08b17",
   "metadata": {
    "vscode": {
     "languageId": "r"
    }
   },
   "outputs": [
    {
     "name": "stderr",
     "output_type": "stream",
     "text": [
      "Warning message:\n",
      "“package ‘tibble’ was built under R version 4.2.3”\n",
      "── \u001b[1mAttaching core tidyverse packages\u001b[22m ──────────────────────── tidyverse 2.0.0 ──\n",
      "\u001b[32m✔\u001b[39m \u001b[34mdplyr    \u001b[39m 1.1.4     \u001b[32m✔\u001b[39m \u001b[34mreadr    \u001b[39m 2.1.5\n",
      "\u001b[32m✔\u001b[39m \u001b[34mforcats  \u001b[39m 1.0.0     \u001b[32m✔\u001b[39m \u001b[34mstringr  \u001b[39m 1.5.1\n",
      "\u001b[32m✔\u001b[39m \u001b[34mggplot2  \u001b[39m 3.5.2     \u001b[32m✔\u001b[39m \u001b[34mtibble   \u001b[39m 3.2.1\n",
      "\u001b[32m✔\u001b[39m \u001b[34mlubridate\u001b[39m 1.9.3     \u001b[32m✔\u001b[39m \u001b[34mtidyr    \u001b[39m 1.3.1\n",
      "\u001b[32m✔\u001b[39m \u001b[34mpurrr    \u001b[39m 1.0.2     \n",
      "── \u001b[1mConflicts\u001b[22m ────────────────────────────────────────── tidyverse_conflicts() ──\n",
      "\u001b[31m✖\u001b[39m \u001b[34mdplyr\u001b[39m::\u001b[32mfilter()\u001b[39m masks \u001b[34mstats\u001b[39m::filter()\n",
      "\u001b[31m✖\u001b[39m \u001b[34mdplyr\u001b[39m::\u001b[32mlag()\u001b[39m    masks \u001b[34mstats\u001b[39m::lag()\n",
      "\u001b[36mℹ\u001b[39m Use the conflicted package (\u001b[3m\u001b[34m<http://conflicted.r-lib.org/>\u001b[39m\u001b[23m) to force all conflicts to become errors\n"
     ]
    }
   ],
   "source": [
    "library(tidyverse)\n",
    "library(ggplot2)\n",
    "library(lubridate)"
   ]
  },
  {
   "cell_type": "code",
   "execution_count": 5,
   "id": "ceaa1861",
   "metadata": {
    "vscode": {
     "languageId": "r"
    }
   },
   "outputs": [
    {
     "data": {
      "text/plain": [
       "R version 4.2.1 (2022-06-23)\n",
       "Platform: x86_64-apple-darwin13.4.0 (64-bit)\n",
       "Running under: macOS Big Sur ... 10.16\n",
       "\n",
       "Matrix products: default\n",
       "BLAS/LAPACK: /Users/joonklaps/opt/anaconda3/lib/libopenblasp-r0.3.20.dylib\n",
       "\n",
       "locale:\n",
       "[1] C/C.UTF-8/C/C/C/C\n",
       "\n",
       "attached base packages:\n",
       "[1] stats     graphics  grDevices utils     datasets  methods   base     \n",
       "\n",
       "other attached packages:\n",
       " [1] lubridate_1.9.3 forcats_1.0.0   stringr_1.5.1   dplyr_1.1.4    \n",
       " [5] purrr_1.0.2     readr_2.1.5     tidyr_1.3.1     tibble_3.2.1   \n",
       " [9] ggplot2_3.5.2   tidyverse_2.0.0\n",
       "\n",
       "loaded via a namespace (and not attached):\n",
       " [1] pillar_1.10.2      compiler_4.2.1     RColorBrewer_1.1-3 base64enc_0.1-3   \n",
       " [5] tools_4.2.1        digest_0.6.36      uuid_1.2-0         timechange_0.3.0  \n",
       " [9] jsonlite_1.8.8     evaluate_1.0.3     lifecycle_1.0.4    gtable_0.3.6      \n",
       "[13] pkgconfig_2.0.3    rlang_1.1.4        IRdisplay_1.1      cli_3.6.3         \n",
       "[17] IRkernel_1.3.2     fastmap_1.2.0      repr_1.1.7         withr_3.0.2       \n",
       "[21] generics_0.1.4     vctrs_0.6.5        hms_1.1.3          grid_4.2.1        \n",
       "[25] tidyselect_1.2.1   glue_1.7.0         R6_2.6.1           pbdZMQ_0.3-9      \n",
       "[29] farver_2.1.2       tzdb_0.4.0         magrittr_2.0.3     scales_1.4.0      \n",
       "[33] htmltools_0.5.8.1  stringi_1.8.4      crayon_1.5.3      "
      ]
     },
     "metadata": {},
     "output_type": "display_data"
    }
   ],
   "source": [
    "sessionInfo()"
   ]
  },
  {
   "cell_type": "code",
   "execution_count": 6,
   "id": "73049e64",
   "metadata": {
    "vscode": {
     "languageId": "r"
    }
   },
   "outputs": [],
   "source": [
    "trace_file <- read.csv(\"./human-virus/pipeline_info/execution_trace_2025-06-08_21-30-08.txt\", sep=\"\\t\", na.strings = c(\"NA\", \"N/A\", \"null\", \"-\",\"\"))"
   ]
  },
  {
   "cell_type": "code",
   "execution_count": 7,
   "id": "bb7917cc",
   "metadata": {
    "vscode": {
     "languageId": "r"
    }
   },
   "outputs": [],
   "source": [
    "convb <- function(x){\n",
    "  ptn <- \"(\\\\d*(.\\\\d+)*) (.*)\"\n",
    "  num  <- as.numeric(sub(ptn, \"\\\\1\", x))\n",
    "  unit <- sub(ptn, \"\\\\3\", x)\n",
    "  unit[unit==\"\"] <- \"1\"\n",
    "\n",
    "  mult <- c(\"1\"=1, \"KB\"=1024, \"MB\"=1024^2, \"GB\"=1024^3)\n",
    "  num * unname(mult[unit])\n",
    "}"
   ]
  },
  {
   "cell_type": "code",
   "execution_count": 8,
   "id": "6d67aedb",
   "metadata": {
    "vscode": {
     "languageId": "r"
    }
   },
   "outputs": [],
   "source": [
    "# Vectorized function to convert time strings to milliseconds\n",
    "time_to_ms <- function(time_str) {\n",
    "  # Handle different input formats\n",
    "  time_str <- as.character(time_str)\n",
    "\n",
    "  # Initialize total milliseconds vector\n",
    "  total_ms <- rep(0, length(time_str))\n",
    "\n",
    "  # Parse different time components using vectorized operations\n",
    "  # Handle hours (e.g., \"1h\", \"2.5h\")\n",
    "  hour_match <- grepl(\"\\\\d+(\\\\.\\\\d+)?h\", time_str)\n",
    "  if (any(hour_match)) {\n",
    "    hours <- as.numeric(gsub(\".*?(\\\\d+(?:\\\\.\\\\d+)?)h.*\", \"\\\\1\", time_str[hour_match]))\n",
    "    total_ms[hour_match] <- total_ms[hour_match] + (hours * 60 * 60 * 1000)\n",
    "  }\n",
    "\n",
    "  # Handle minutes (e.g., \"30m\", \"20.5m\")\n",
    "  minute_match <- grepl(\"\\\\d+(\\\\.\\\\d+)?m\", time_str)\n",
    "  if (any(minute_match)) {\n",
    "    minutes <- as.numeric(gsub(\".*?(\\\\d+(?:\\\\.\\\\d+)?)m.*\", \"\\\\1\", time_str[minute_match]))\n",
    "    total_ms[minute_match] <- total_ms[minute_match] + (minutes * 60 * 1000)\n",
    "  }\n",
    "\n",
    "  # Handle seconds (e.g., \"30s\", \"34.8s\")\n",
    "  second_match <- grepl(\"\\\\d+(\\\\.\\\\d+)?s\", time_str)\n",
    "  if (any(second_match)) {\n",
    "    seconds <- as.numeric(gsub(\".*?(\\\\d+(?:\\\\.\\\\d+)?)s.*\", \"\\\\1\", time_str[second_match]))\n",
    "    total_ms[second_match] <- total_ms[second_match] + (seconds * 1000)\n",
    "  }\n",
    "\n",
    "  # Handle milliseconds (e.g., \"500ms\", \"0ms\")\n",
    "  ms_match <- grepl(\"\\\\d+(\\\\.\\\\d+)?ms\", time_str)\n",
    "  if (any(ms_match)) {\n",
    "    ms <- as.numeric(gsub(\".*?(\\\\d+(?:\\\\.\\\\d+)?)ms.*\", \"\\\\1\", time_str[ms_match]))\n",
    "    total_ms[ms_match] <- total_ms[ms_match] + ms\n",
    "  }\n",
    "\n",
    "  # Handle plain numbers (assume seconds)\n",
    "  plain_number_match <- grepl(\"^\\\\d+(\\\\.\\\\d+)?$\", time_str)\n",
    "  if (any(plain_number_match)) {\n",
    "    seconds <- as.numeric(time_str[plain_number_match])\n",
    "    total_ms[plain_number_match] <- total_ms[plain_number_match] + (seconds * 1000)\n",
    "  }\n",
    "\n",
    "  return(total_ms)\n",
    "}\n",
    "\n",
    "# Vectorized function to convert milliseconds back to readable time string\n",
    "ms_to_time <- function(ms) {\n",
    "  # Vectorized version\n",
    "  result <- character(length(ms))\n",
    "\n",
    "  for (i in seq_along(ms)) {\n",
    "    if (ms[i] < 1000) {\n",
    "      result[i] <- paste0(ms[i], \"ms\")\n",
    "    } else {\n",
    "      # Convert to seconds, minutes, hours\n",
    "      total_seconds <- ms[i] / 1000\n",
    "      hours <- floor(total_seconds / 3600)\n",
    "      minutes <- floor((total_seconds %% 3600) / 60)\n",
    "      seconds <- total_seconds %% 60\n",
    "\n",
    "      # Build time string\n",
    "      time_parts <- c()\n",
    "\n",
    "      if (hours > 0) {\n",
    "        time_parts <- c(time_parts, paste0(hours, \"h\"))\n",
    "      }\n",
    "\n",
    "      if (minutes > 0) {\n",
    "        time_parts <- c(time_parts, paste0(minutes, \"m\"))\n",
    "      }\n",
    "\n",
    "      if (seconds > 0) {\n",
    "        if (seconds == floor(seconds)) {\n",
    "          time_parts <- c(time_parts, paste0(seconds, \"s\"))\n",
    "        } else {\n",
    "          time_parts <- c(time_parts, paste0(round(seconds, 1), \"s\"))\n",
    "        }\n",
    "      }\n",
    "\n",
    "      if (length(time_parts) == 0) {\n",
    "        result[i] <- \"0ms\"\n",
    "      } else {\n",
    "        result[i] <- paste(time_parts, collapse = \" \")\n",
    "      }\n",
    "    }\n",
    "  }\n",
    "\n",
    "  return(result)\n",
    "}"
   ]
  },
  {
   "cell_type": "code",
   "execution_count": 9,
   "id": "6aa71c0d",
   "metadata": {
    "vscode": {
     "languageId": "r"
    }
   },
   "outputs": [
    {
     "data": {
      "text/html": [
       "<table class=\"dataframe\">\n",
       "<caption>A data.frame: 1 × 4</caption>\n",
       "<thead>\n",
       "\t<tr><th scope=col>sum_cpu_time</th><th scope=col>sum_real_time</th><th scope=col>peak_ram</th><th scope=col>peak_vmem</th></tr>\n",
       "\t<tr><th scope=col>&lt;chr&gt;</th><th scope=col>&lt;chr&gt;</th><th scope=col>&lt;chr&gt;</th><th scope=col>&lt;chr&gt;</th></tr>\n",
       "</thead>\n",
       "<tbody>\n",
       "\t<tr><td>411h 53m 21.5s</td><td>382h 56m 53.1s</td><td>79.2 Gb</td><td>85.3 Gb</td></tr>\n",
       "</tbody>\n",
       "</table>\n"
      ],
      "text/latex": [
       "A data.frame: 1 × 4\n",
       "\\begin{tabular}{llll}\n",
       " sum\\_cpu\\_time & sum\\_real\\_time & peak\\_ram & peak\\_vmem\\\\\n",
       " <chr> & <chr> & <chr> & <chr>\\\\\n",
       "\\hline\n",
       "\t 411h 53m 21.5s & 382h 56m 53.1s & 79.2 Gb & 85.3 Gb\\\\\n",
       "\\end{tabular}\n"
      ],
      "text/markdown": [
       "\n",
       "A data.frame: 1 × 4\n",
       "\n",
       "| sum_cpu_time &lt;chr&gt; | sum_real_time &lt;chr&gt; | peak_ram &lt;chr&gt; | peak_vmem &lt;chr&gt; |\n",
       "|---|---|---|---|\n",
       "| 411h 53m 21.5s | 382h 56m 53.1s | 79.2 Gb | 85.3 Gb |\n",
       "\n"
      ],
      "text/plain": [
       "  sum_cpu_time   sum_real_time  peak_ram peak_vmem\n",
       "1 411h 53m 21.5s 382h 56m 53.1s 79.2 Gb  85.3 Gb  "
      ]
     },
     "metadata": {},
     "output_type": "display_data"
    }
   ],
   "source": [
    "# Kaiju for reads failed multiple times and skewed the results\n",
    "result <- trace_file %>% filter(!grepl(\"FASTQ_KRAKEN_KAIJU\", name)) %>%\n",
    "  summarise(\n",
    "    sum_cpu_time = ms_to_time(sum(time_to_ms(duration),na.rm = TRUE)),\n",
    "    sum_real_time = ms_to_time(sum(time_to_ms(realtime),na.rm = TRUE)),\n",
    "    peak_ram = utils:::format.object_size(max(convb(peak_rss), na.rm = TRUE), \"auto\"),\n",
    "    peak_vmem = utils:::format.object_size(max(convb(peak_vmem),na.rm = TRUE), \"auto\")\n",
    "  )\n",
    "result"
   ]
  }
 ],
 "metadata": {
  "kernelspec": {
   "display_name": "R",
   "language": "R",
   "name": "ir"
  },
  "language_info": {
   "codemirror_mode": "r",
   "file_extension": ".r",
   "mimetype": "text/x-r-source",
   "name": "R",
   "pygments_lexer": "r",
   "version": "4.2.1"
  }
 },
 "nbformat": 4,
 "nbformat_minor": 5
}
