{
 "cells": [
  {
   "cell_type": "code",
   "execution_count": 1,
   "id": "a6fc851b",
   "metadata": {
    "vscode": {
     "languageId": "r"
    }
   },
   "outputs": [
    {
     "name": "stderr",
     "output_type": "stream",
     "text": [
      "Warning message:\n",
      "“package ‘tibble’ was built under R version 4.2.3”\n",
      "── \u001b[1mAttaching core tidyverse packages\u001b[22m ──────────────────────── tidyverse 2.0.0 ──\n",
      "\u001b[32m✔\u001b[39m \u001b[34mdplyr    \u001b[39m 1.1.4     \u001b[32m✔\u001b[39m \u001b[34mreadr    \u001b[39m 2.1.5\n",
      "\u001b[32m✔\u001b[39m \u001b[34mforcats  \u001b[39m 1.0.0     \u001b[32m✔\u001b[39m \u001b[34mstringr  \u001b[39m 1.5.1\n",
      "\u001b[32m✔\u001b[39m \u001b[34mggplot2  \u001b[39m 3.5.2     \u001b[32m✔\u001b[39m \u001b[34mtibble   \u001b[39m 3.2.1\n",
      "\u001b[32m✔\u001b[39m \u001b[34mlubridate\u001b[39m 1.9.3     \u001b[32m✔\u001b[39m \u001b[34mtidyr    \u001b[39m 1.3.1\n",
      "\u001b[32m✔\u001b[39m \u001b[34mpurrr    \u001b[39m 1.0.2     \n",
      "── \u001b[1mConflicts\u001b[22m ────────────────────────────────────────── tidyverse_conflicts() ──\n",
      "\u001b[31m✖\u001b[39m \u001b[34mdplyr\u001b[39m::\u001b[32mfilter()\u001b[39m masks \u001b[34mstats\u001b[39m::filter()\n",
      "\u001b[31m✖\u001b[39m \u001b[34mdplyr\u001b[39m::\u001b[32mlag()\u001b[39m    masks \u001b[34mstats\u001b[39m::lag()\n",
      "\u001b[36mℹ\u001b[39m Use the conflicted package (\u001b[3m\u001b[34m<http://conflicted.r-lib.org/>\u001b[39m\u001b[23m) to force all conflicts to become errors\n"
     ]
    }
   ],
   "source": [
    "library(tidyverse)"
   ]
  },
  {
   "cell_type": "code",
   "execution_count": 3,
   "id": "6cfcc047",
   "metadata": {
    "vscode": {
     "languageId": "r"
    }
   },
   "outputs": [
    {
     "data": {
      "text/plain": [
       "R version 4.2.1 (2022-06-23)\n",
       "Platform: x86_64-apple-darwin13.4.0 (64-bit)\n",
       "Running under: macOS Big Sur ... 10.16\n",
       "\n",
       "Matrix products: default\n",
       "BLAS/LAPACK: /Users/joonklaps/opt/anaconda3/lib/libopenblasp-r0.3.20.dylib\n",
       "\n",
       "locale:\n",
       "[1] C/C.UTF-8/C/C/C/C\n",
       "\n",
       "attached base packages:\n",
       "[1] stats     graphics  grDevices utils     datasets  methods   base     \n",
       "\n",
       "other attached packages:\n",
       " [1] lubridate_1.9.3 forcats_1.0.0   stringr_1.5.1   dplyr_1.1.4    \n",
       " [5] purrr_1.0.2     readr_2.1.5     tidyr_1.3.1     tibble_3.2.1   \n",
       " [9] ggplot2_3.5.2   tidyverse_2.0.0\n",
       "\n",
       "loaded via a namespace (and not attached):\n",
       " [1] pillar_1.10.2      compiler_4.2.1     RColorBrewer_1.1-3 base64enc_0.1-3   \n",
       " [5] tools_4.2.1        digest_0.6.36      uuid_1.2-0         timechange_0.3.0  \n",
       " [9] jsonlite_1.8.8     evaluate_1.0.3     lifecycle_1.0.4    gtable_0.3.6      \n",
       "[13] pkgconfig_2.0.3    rlang_1.1.4        IRdisplay_1.1      cli_3.6.3         \n",
       "[17] IRkernel_1.3.2     fastmap_1.2.0      repr_1.1.7         withr_3.0.2       \n",
       "[21] generics_0.1.4     vctrs_0.6.5        hms_1.1.3          grid_4.2.1        \n",
       "[25] tidyselect_1.2.1   glue_1.7.0         R6_2.6.1           pbdZMQ_0.3-9      \n",
       "[29] farver_2.1.2       tzdb_0.4.0         magrittr_2.0.3     scales_1.4.0      \n",
       "[33] htmltools_0.5.8.1  stringi_1.8.4      crayon_1.5.3      "
      ]
     },
     "metadata": {},
     "output_type": "display_data"
    }
   ],
   "source": [
    "sessionInfo()"
   ]
  },
  {
   "cell_type": "code",
   "execution_count": 11,
   "id": "a71e8b19",
   "metadata": {
    "vscode": {
     "languageId": "r"
    }
   },
   "outputs": [
    {
     "data": {
      "text/html": [
       "'/Users/joonklaps/Desktop/School/PhD/projects/LVE-BE002-PIPELINE/LVE-BE02-Supplmentary/viralgenie-manuscript/analysis/sequence-download'"
      ],
      "text/latex": [
       "'/Users/joonklaps/Desktop/School/PhD/projects/LVE-BE002-PIPELINE/LVE-BE02-Supplmentary/viralgenie-manuscript/analysis/sequence-download'"
      ],
      "text/markdown": [
       "'/Users/joonklaps/Desktop/School/PhD/projects/LVE-BE002-PIPELINE/LVE-BE02-Supplmentary/viralgenie-manuscript/analysis/sequence-download'"
      ],
      "text/plain": [
       "[1] \"/Users/joonklaps/Desktop/School/PhD/projects/LVE-BE002-PIPELINE/LVE-BE02-Supplmentary/viralgenie-manuscript/analysis/sequence-download\""
      ]
     },
     "metadata": {},
     "output_type": "display_data"
    }
   ],
   "source": [
    "getwd()"
   ]
  },
  {
   "cell_type": "code",
   "execution_count": 28,
   "id": "2555b177",
   "metadata": {
    "vscode": {
     "languageId": "r"
    }
   },
   "outputs": [
    {
     "data": {
      "text/html": [
       "<table class=\"dataframe\">\n",
       "<caption>A tibble: 6 × 32</caption>\n",
       "<thead>\n",
       "\t<tr><th scope=col>Accession</th><th scope=col>Organism_Name</th><th scope=col>GenBank_RefSeq</th><th scope=col>Assembly</th><th scope=col>SRA_Accession</th><th scope=col>Submitters</th><th scope=col>Organization</th><th scope=col>Org_location</th><th scope=col>Release_Date</th><th scope=col>Isolate</th><th scope=col>⋯</th><th scope=col>Host</th><th scope=col>Tissue_Specimen_Source</th><th scope=col>Collection_Date</th><th scope=col>BioSample</th><th scope=col>BioProject</th><th scope=col>GenBank_Title</th><th scope=col>MPXV_Lineage</th><th scope=col>Pangolin</th><th scope=col>PangoVersions</th><th scope=col>Surveillance_Sampling</th></tr>\n",
       "\t<tr><th scope=col>&lt;chr&gt;</th><th scope=col>&lt;chr&gt;</th><th scope=col>&lt;chr&gt;</th><th scope=col>&lt;chr&gt;</th><th scope=col>&lt;chr&gt;</th><th scope=col>&lt;chr&gt;</th><th scope=col>&lt;chr&gt;</th><th scope=col>&lt;chr&gt;</th><th scope=col>&lt;chr&gt;</th><th scope=col>&lt;chr&gt;</th><th scope=col>⋯</th><th scope=col>&lt;chr&gt;</th><th scope=col>&lt;chr&gt;</th><th scope=col>&lt;chr&gt;</th><th scope=col>&lt;chr&gt;</th><th scope=col>&lt;chr&gt;</th><th scope=col>&lt;chr&gt;</th><th scope=col>&lt;chr&gt;</th><th scope=col>&lt;chr&gt;</th><th scope=col>&lt;chr&gt;</th><th scope=col>&lt;chr&gt;</th></tr>\n",
       "</thead>\n",
       "<tbody>\n",
       "\t<tr><td>KY786027</td><td>Ebola virus</td><td>GenBank</td><td>set:KY786027</td><td>SRR5350234</td><td>Guedj,J., Piorkowski,G., Jacquot,F., Madelain,V., Nguyen,T.H.T., Gunther,S., Carbonelle,C., Mentre,F., de Lamballerie,X., Raoul,H.</td><td>IAME, UMR 1137, INSERM, Universite Paris Diderot, Sorbonne Paris Cite</td><td>France</td><td>2018-07-13</td><td>NA</td><td>⋯</td><td>Macaca fascicularis</td><td>NA</td><td>2001</td><td>SAMN06603499</td><td>PRJNA379115</td><td>Ebola virus strain Ebola virus/M.fascicularis-wt/GAB/2001/untreated-CCL053D9, complete genome </td><td>NA</td><td>NA</td><td>NA</td><td>NA</td></tr>\n",
       "\t<tr><td>KY786026</td><td>Ebola virus</td><td>GenBank</td><td>set:KY786026</td><td>SRR5350235</td><td>Guedj,J., Piorkowski,G., Jacquot,F., Madelain,V., Nguyen,T.H.T., Gunther,S., Carbonelle,C., Mentre,F., de Lamballerie,X., Raoul,H.</td><td>IAME, UMR 1137, INSERM, Universite Paris Diderot, Sorbonne Paris Cite</td><td>France</td><td>2018-07-13</td><td>NA</td><td>⋯</td><td>Macaca fascicularis</td><td>NA</td><td>2001</td><td>SAMN06603498</td><td>PRJNA379115</td><td>Ebola virus strain Ebola virus/M.fascicularis-wt/GAB/2001/untreated-CCL053D7, complete genome </td><td>NA</td><td>NA</td><td>NA</td><td>NA</td></tr>\n",
       "\t<tr><td>KY786025</td><td>Ebola virus</td><td>GenBank</td><td>set:KY786025</td><td>SRR5350236</td><td>Guedj,J., Piorkowski,G., Jacquot,F., Madelain,V., Nguyen,T.H.T., Gunther,S., Carbonelle,C., Mentre,F., de Lamballerie,X., Raoul,H.</td><td>IAME, UMR 1137, INSERM, Universite Paris Diderot, Sorbonne Paris Cite</td><td>France</td><td>2018-07-13</td><td>NA</td><td>⋯</td><td>Macaca fascicularis</td><td>NA</td><td>2001</td><td>SAMN06603497</td><td>PRJNA379115</td><td>Ebola virus strain Ebola virus/M.fascicularis-wt/GAB/2001/untreated-CCL053D5, complete genome </td><td>NA</td><td>NA</td><td>NA</td><td>NA</td></tr>\n",
       "\t<tr><td>KY786024</td><td>Ebola virus</td><td>GenBank</td><td>set:KY786024</td><td>SRR5350237</td><td>Guedj,J., Piorkowski,G., Jacquot,F., Madelain,V., Nguyen,T.H.T., Gunther,S., Carbonelle,C., Mentre,F., de Lamballerie,X., Raoul,H.</td><td>IAME, UMR 1137, INSERM, Universite Paris Diderot, Sorbonne Paris Cite</td><td>France</td><td>2018-07-13</td><td>NA</td><td>⋯</td><td>Macaca fascicularis</td><td>NA</td><td>2001</td><td>SAMN06603496</td><td>PRJNA379115</td><td>Ebola virus strain Ebola virus/M.fascicularis-wt/GAB/2001/untreated-CCJ046D7, complete genome </td><td>NA</td><td>NA</td><td>NA</td><td>NA</td></tr>\n",
       "\t<tr><td>KY786023</td><td>Ebola virus</td><td>GenBank</td><td>set:KY786023</td><td>SRR5350238</td><td>Guedj,J., Piorkowski,G., Jacquot,F., Madelain,V., Nguyen,T.H.T., Gunther,S., Carbonelle,C., Mentre,F., de Lamballerie,X., Raoul,H.</td><td>IAME, UMR 1137, INSERM, Universite Paris Diderot, Sorbonne Paris Cite</td><td>France</td><td>2018-07-13</td><td>NA</td><td>⋯</td><td>Macaca fascicularis</td><td>NA</td><td>2001</td><td>SAMN06603495</td><td>PRJNA379115</td><td>Ebola virus strain Ebola virus/M.fascicularis-wt/GAB/2001/untreated-CCJ046D5, complete genome </td><td>NA</td><td>NA</td><td>NA</td><td>NA</td></tr>\n",
       "\t<tr><td>KY786022</td><td>Ebola virus</td><td>GenBank</td><td>set:KY786022</td><td>SRR5350239</td><td>Guedj,J., Piorkowski,G., Jacquot,F., Madelain,V., Nguyen,T.H.T., Gunther,S., Carbonelle,C., Mentre,F., de Lamballerie,X., Raoul,H.</td><td>IAME, UMR 1137, INSERM, Universite Paris Diderot, Sorbonne Paris Cite</td><td>France</td><td>2018-07-13</td><td>NA</td><td>⋯</td><td>Macaca fascicularis</td><td>NA</td><td>2001</td><td>SAMN06603494</td><td>PRJNA379115</td><td>Ebola virus strain Ebola virus/M.fascicularis-wt/GAB/2001/untreated-CCJ046d10, complete genome</td><td>NA</td><td>NA</td><td>NA</td><td>NA</td></tr>\n",
       "</tbody>\n",
       "</table>\n"
      ],
      "text/latex": [
       "A tibble: 6 × 32\n",
       "\\begin{tabular}{lllllllllllllllllllll}\n",
       " Accession & Organism\\_Name & GenBank\\_RefSeq & Assembly & SRA\\_Accession & Submitters & Organization & Org\\_location & Release\\_Date & Isolate & ⋯ & Host & Tissue\\_Specimen\\_Source & Collection\\_Date & BioSample & BioProject & GenBank\\_Title & MPXV\\_Lineage & Pangolin & PangoVersions & Surveillance\\_Sampling\\\\\n",
       " <chr> & <chr> & <chr> & <chr> & <chr> & <chr> & <chr> & <chr> & <chr> & <chr> & ⋯ & <chr> & <chr> & <chr> & <chr> & <chr> & <chr> & <chr> & <chr> & <chr> & <chr>\\\\\n",
       "\\hline\n",
       "\t KY786027 & Ebola virus & GenBank & set:KY786027 & SRR5350234 & Guedj,J., Piorkowski,G., Jacquot,F., Madelain,V., Nguyen,T.H.T., Gunther,S., Carbonelle,C., Mentre,F., de Lamballerie,X., Raoul,H. & IAME, UMR 1137, INSERM, Universite Paris Diderot, Sorbonne Paris Cite & France & 2018-07-13 & NA & ⋯ & Macaca fascicularis & NA & 2001 & SAMN06603499 & PRJNA379115 & Ebola virus strain Ebola virus/M.fascicularis-wt/GAB/2001/untreated-CCL053D9, complete genome  & NA & NA & NA & NA\\\\\n",
       "\t KY786026 & Ebola virus & GenBank & set:KY786026 & SRR5350235 & Guedj,J., Piorkowski,G., Jacquot,F., Madelain,V., Nguyen,T.H.T., Gunther,S., Carbonelle,C., Mentre,F., de Lamballerie,X., Raoul,H. & IAME, UMR 1137, INSERM, Universite Paris Diderot, Sorbonne Paris Cite & France & 2018-07-13 & NA & ⋯ & Macaca fascicularis & NA & 2001 & SAMN06603498 & PRJNA379115 & Ebola virus strain Ebola virus/M.fascicularis-wt/GAB/2001/untreated-CCL053D7, complete genome  & NA & NA & NA & NA\\\\\n",
       "\t KY786025 & Ebola virus & GenBank & set:KY786025 & SRR5350236 & Guedj,J., Piorkowski,G., Jacquot,F., Madelain,V., Nguyen,T.H.T., Gunther,S., Carbonelle,C., Mentre,F., de Lamballerie,X., Raoul,H. & IAME, UMR 1137, INSERM, Universite Paris Diderot, Sorbonne Paris Cite & France & 2018-07-13 & NA & ⋯ & Macaca fascicularis & NA & 2001 & SAMN06603497 & PRJNA379115 & Ebola virus strain Ebola virus/M.fascicularis-wt/GAB/2001/untreated-CCL053D5, complete genome  & NA & NA & NA & NA\\\\\n",
       "\t KY786024 & Ebola virus & GenBank & set:KY786024 & SRR5350237 & Guedj,J., Piorkowski,G., Jacquot,F., Madelain,V., Nguyen,T.H.T., Gunther,S., Carbonelle,C., Mentre,F., de Lamballerie,X., Raoul,H. & IAME, UMR 1137, INSERM, Universite Paris Diderot, Sorbonne Paris Cite & France & 2018-07-13 & NA & ⋯ & Macaca fascicularis & NA & 2001 & SAMN06603496 & PRJNA379115 & Ebola virus strain Ebola virus/M.fascicularis-wt/GAB/2001/untreated-CCJ046D7, complete genome  & NA & NA & NA & NA\\\\\n",
       "\t KY786023 & Ebola virus & GenBank & set:KY786023 & SRR5350238 & Guedj,J., Piorkowski,G., Jacquot,F., Madelain,V., Nguyen,T.H.T., Gunther,S., Carbonelle,C., Mentre,F., de Lamballerie,X., Raoul,H. & IAME, UMR 1137, INSERM, Universite Paris Diderot, Sorbonne Paris Cite & France & 2018-07-13 & NA & ⋯ & Macaca fascicularis & NA & 2001 & SAMN06603495 & PRJNA379115 & Ebola virus strain Ebola virus/M.fascicularis-wt/GAB/2001/untreated-CCJ046D5, complete genome  & NA & NA & NA & NA\\\\\n",
       "\t KY786022 & Ebola virus & GenBank & set:KY786022 & SRR5350239 & Guedj,J., Piorkowski,G., Jacquot,F., Madelain,V., Nguyen,T.H.T., Gunther,S., Carbonelle,C., Mentre,F., de Lamballerie,X., Raoul,H. & IAME, UMR 1137, INSERM, Universite Paris Diderot, Sorbonne Paris Cite & France & 2018-07-13 & NA & ⋯ & Macaca fascicularis & NA & 2001 & SAMN06603494 & PRJNA379115 & Ebola virus strain Ebola virus/M.fascicularis-wt/GAB/2001/untreated-CCJ046d10, complete genome & NA & NA & NA & NA\\\\\n",
       "\\end{tabular}\n"
      ],
      "text/markdown": [
       "\n",
       "A tibble: 6 × 32\n",
       "\n",
       "| Accession &lt;chr&gt; | Organism_Name &lt;chr&gt; | GenBank_RefSeq &lt;chr&gt; | Assembly &lt;chr&gt; | SRA_Accession &lt;chr&gt; | Submitters &lt;chr&gt; | Organization &lt;chr&gt; | Org_location &lt;chr&gt; | Release_Date &lt;chr&gt; | Isolate &lt;chr&gt; | ⋯ ⋯ | Host &lt;chr&gt; | Tissue_Specimen_Source &lt;chr&gt; | Collection_Date &lt;chr&gt; | BioSample &lt;chr&gt; | BioProject &lt;chr&gt; | GenBank_Title &lt;chr&gt; | MPXV_Lineage &lt;chr&gt; | Pangolin &lt;chr&gt; | PangoVersions &lt;chr&gt; | Surveillance_Sampling &lt;chr&gt; |\n",
       "|---|---|---|---|---|---|---|---|---|---|---|---|---|---|---|---|---|---|---|---|---|\n",
       "| KY786027 | Ebola virus | GenBank | set:KY786027 | SRR5350234 | Guedj,J., Piorkowski,G., Jacquot,F., Madelain,V., Nguyen,T.H.T., Gunther,S., Carbonelle,C., Mentre,F., de Lamballerie,X., Raoul,H. | IAME, UMR 1137, INSERM, Universite Paris Diderot, Sorbonne Paris Cite | France | 2018-07-13 | NA | ⋯ | Macaca fascicularis | NA | 2001 | SAMN06603499 | PRJNA379115 | Ebola virus strain Ebola virus/M.fascicularis-wt/GAB/2001/untreated-CCL053D9, complete genome  | NA | NA | NA | NA |\n",
       "| KY786026 | Ebola virus | GenBank | set:KY786026 | SRR5350235 | Guedj,J., Piorkowski,G., Jacquot,F., Madelain,V., Nguyen,T.H.T., Gunther,S., Carbonelle,C., Mentre,F., de Lamballerie,X., Raoul,H. | IAME, UMR 1137, INSERM, Universite Paris Diderot, Sorbonne Paris Cite | France | 2018-07-13 | NA | ⋯ | Macaca fascicularis | NA | 2001 | SAMN06603498 | PRJNA379115 | Ebola virus strain Ebola virus/M.fascicularis-wt/GAB/2001/untreated-CCL053D7, complete genome  | NA | NA | NA | NA |\n",
       "| KY786025 | Ebola virus | GenBank | set:KY786025 | SRR5350236 | Guedj,J., Piorkowski,G., Jacquot,F., Madelain,V., Nguyen,T.H.T., Gunther,S., Carbonelle,C., Mentre,F., de Lamballerie,X., Raoul,H. | IAME, UMR 1137, INSERM, Universite Paris Diderot, Sorbonne Paris Cite | France | 2018-07-13 | NA | ⋯ | Macaca fascicularis | NA | 2001 | SAMN06603497 | PRJNA379115 | Ebola virus strain Ebola virus/M.fascicularis-wt/GAB/2001/untreated-CCL053D5, complete genome  | NA | NA | NA | NA |\n",
       "| KY786024 | Ebola virus | GenBank | set:KY786024 | SRR5350237 | Guedj,J., Piorkowski,G., Jacquot,F., Madelain,V., Nguyen,T.H.T., Gunther,S., Carbonelle,C., Mentre,F., de Lamballerie,X., Raoul,H. | IAME, UMR 1137, INSERM, Universite Paris Diderot, Sorbonne Paris Cite | France | 2018-07-13 | NA | ⋯ | Macaca fascicularis | NA | 2001 | SAMN06603496 | PRJNA379115 | Ebola virus strain Ebola virus/M.fascicularis-wt/GAB/2001/untreated-CCJ046D7, complete genome  | NA | NA | NA | NA |\n",
       "| KY786023 | Ebola virus | GenBank | set:KY786023 | SRR5350238 | Guedj,J., Piorkowski,G., Jacquot,F., Madelain,V., Nguyen,T.H.T., Gunther,S., Carbonelle,C., Mentre,F., de Lamballerie,X., Raoul,H. | IAME, UMR 1137, INSERM, Universite Paris Diderot, Sorbonne Paris Cite | France | 2018-07-13 | NA | ⋯ | Macaca fascicularis | NA | 2001 | SAMN06603495 | PRJNA379115 | Ebola virus strain Ebola virus/M.fascicularis-wt/GAB/2001/untreated-CCJ046D5, complete genome  | NA | NA | NA | NA |\n",
       "| KY786022 | Ebola virus | GenBank | set:KY786022 | SRR5350239 | Guedj,J., Piorkowski,G., Jacquot,F., Madelain,V., Nguyen,T.H.T., Gunther,S., Carbonelle,C., Mentre,F., de Lamballerie,X., Raoul,H. | IAME, UMR 1137, INSERM, Universite Paris Diderot, Sorbonne Paris Cite | France | 2018-07-13 | NA | ⋯ | Macaca fascicularis | NA | 2001 | SAMN06603494 | PRJNA379115 | Ebola virus strain Ebola virus/M.fascicularis-wt/GAB/2001/untreated-CCJ046d10, complete genome | NA | NA | NA | NA |\n",
       "\n"
      ],
      "text/plain": [
       "  Accession Organism_Name GenBank_RefSeq Assembly     SRA_Accession\n",
       "1 KY786027  Ebola virus   GenBank        set:KY786027 SRR5350234   \n",
       "2 KY786026  Ebola virus   GenBank        set:KY786026 SRR5350235   \n",
       "3 KY786025  Ebola virus   GenBank        set:KY786025 SRR5350236   \n",
       "4 KY786024  Ebola virus   GenBank        set:KY786024 SRR5350237   \n",
       "5 KY786023  Ebola virus   GenBank        set:KY786023 SRR5350238   \n",
       "6 KY786022  Ebola virus   GenBank        set:KY786022 SRR5350239   \n",
       "  Submitters                                                                                                                        \n",
       "1 Guedj,J., Piorkowski,G., Jacquot,F., Madelain,V., Nguyen,T.H.T., Gunther,S., Carbonelle,C., Mentre,F., de Lamballerie,X., Raoul,H.\n",
       "2 Guedj,J., Piorkowski,G., Jacquot,F., Madelain,V., Nguyen,T.H.T., Gunther,S., Carbonelle,C., Mentre,F., de Lamballerie,X., Raoul,H.\n",
       "3 Guedj,J., Piorkowski,G., Jacquot,F., Madelain,V., Nguyen,T.H.T., Gunther,S., Carbonelle,C., Mentre,F., de Lamballerie,X., Raoul,H.\n",
       "4 Guedj,J., Piorkowski,G., Jacquot,F., Madelain,V., Nguyen,T.H.T., Gunther,S., Carbonelle,C., Mentre,F., de Lamballerie,X., Raoul,H.\n",
       "5 Guedj,J., Piorkowski,G., Jacquot,F., Madelain,V., Nguyen,T.H.T., Gunther,S., Carbonelle,C., Mentre,F., de Lamballerie,X., Raoul,H.\n",
       "6 Guedj,J., Piorkowski,G., Jacquot,F., Madelain,V., Nguyen,T.H.T., Gunther,S., Carbonelle,C., Mentre,F., de Lamballerie,X., Raoul,H.\n",
       "  Organization                                                         \n",
       "1 IAME, UMR 1137, INSERM, Universite Paris Diderot, Sorbonne Paris Cite\n",
       "2 IAME, UMR 1137, INSERM, Universite Paris Diderot, Sorbonne Paris Cite\n",
       "3 IAME, UMR 1137, INSERM, Universite Paris Diderot, Sorbonne Paris Cite\n",
       "4 IAME, UMR 1137, INSERM, Universite Paris Diderot, Sorbonne Paris Cite\n",
       "5 IAME, UMR 1137, INSERM, Universite Paris Diderot, Sorbonne Paris Cite\n",
       "6 IAME, UMR 1137, INSERM, Universite Paris Diderot, Sorbonne Paris Cite\n",
       "  Org_location Release_Date Isolate ⋯ Host               \n",
       "1 France       2018-07-13   NA      ⋯ Macaca fascicularis\n",
       "2 France       2018-07-13   NA      ⋯ Macaca fascicularis\n",
       "3 France       2018-07-13   NA      ⋯ Macaca fascicularis\n",
       "4 France       2018-07-13   NA      ⋯ Macaca fascicularis\n",
       "5 France       2018-07-13   NA      ⋯ Macaca fascicularis\n",
       "6 France       2018-07-13   NA      ⋯ Macaca fascicularis\n",
       "  Tissue_Specimen_Source Collection_Date BioSample    BioProject \n",
       "1 NA                     2001            SAMN06603499 PRJNA379115\n",
       "2 NA                     2001            SAMN06603498 PRJNA379115\n",
       "3 NA                     2001            SAMN06603497 PRJNA379115\n",
       "4 NA                     2001            SAMN06603496 PRJNA379115\n",
       "5 NA                     2001            SAMN06603495 PRJNA379115\n",
       "6 NA                     2001            SAMN06603494 PRJNA379115\n",
       "  GenBank_Title                                                                                 \n",
       "1 Ebola virus strain Ebola virus/M.fascicularis-wt/GAB/2001/untreated-CCL053D9, complete genome \n",
       "2 Ebola virus strain Ebola virus/M.fascicularis-wt/GAB/2001/untreated-CCL053D7, complete genome \n",
       "3 Ebola virus strain Ebola virus/M.fascicularis-wt/GAB/2001/untreated-CCL053D5, complete genome \n",
       "4 Ebola virus strain Ebola virus/M.fascicularis-wt/GAB/2001/untreated-CCJ046D7, complete genome \n",
       "5 Ebola virus strain Ebola virus/M.fascicularis-wt/GAB/2001/untreated-CCJ046D5, complete genome \n",
       "6 Ebola virus strain Ebola virus/M.fascicularis-wt/GAB/2001/untreated-CCJ046d10, complete genome\n",
       "  MPXV_Lineage Pangolin PangoVersions Surveillance_Sampling\n",
       "1 NA           NA       NA            NA                   \n",
       "2 NA           NA       NA            NA                   \n",
       "3 NA           NA       NA            NA                   \n",
       "4 NA           NA       NA            NA                   \n",
       "5 NA           NA       NA            NA                   \n",
       "6 NA           NA       NA            NA                   "
      ]
     },
     "metadata": {},
     "output_type": "display_data"
    }
   ],
   "source": [
    "sequences <- list.files(path = \"data/\", pattern = \"sequences.*.csv\", full.names = TRUE)%>%\n",
    "    map_df(~read_csv(.x, col_types = cols(.default = \"c\")))\n",
    "\n",
    "head(sequences)"
   ]
  },
  {
   "cell_type": "code",
   "execution_count": 37,
   "id": "0ccd60cd",
   "metadata": {
    "vscode": {
     "languageId": "r"
    }
   },
   "outputs": [
    {
     "data": {
      "text/html": [
       "<style>\n",
       ".list-inline {list-style: none; margin:0; padding: 0}\n",
       ".list-inline>li {display: inline-block}\n",
       ".list-inline>li:not(:last-child)::after {content: \"\\00b7\"; padding: 0 .5ex}\n",
       "</style>\n",
       "<ol class=list-inline><li>992</li><li>32</li></ol>\n"
      ],
      "text/latex": [
       "\\begin{enumerate*}\n",
       "\\item 992\n",
       "\\item 32\n",
       "\\end{enumerate*}\n"
      ],
      "text/markdown": [
       "1. 992\n",
       "2. 32\n",
       "\n",
       "\n"
      ],
      "text/plain": [
       "[1] 992  32"
      ]
     },
     "metadata": {},
     "output_type": "display_data"
    },
    {
     "name": "stderr",
     "output_type": "stream",
     "text": [
      "Warning message in write.csv(SRA$SRA_Accession, \"data/combined_sra_accessions.csv\", :\n",
      "“attempt to set 'col.names' ignored”\n"
     ]
    }
   ],
   "source": [
    "SRA <- sequences%>%filter(!is.na(SRA_Accession), !grepl(\",\", SRA_Accession))\n",
    "dim(SRA)\n",
    "write.csv(SRA$SRA_Accession, \"data/combined_sra_accessions.csv\", row.names = FALSE, quote = FALSE, col.names = FALSE)"
   ]
  },
  {
   "cell_type": "markdown",
   "id": "ad9c7fb1",
   "metadata": {
    "vscode": {
     "languageId": "r"
    }
   },
   "source": [
    "Uploading it to [`https://www.ncbi.nlm.nih.gov/sites/batchentrez`](https://www.ncbi.nlm.nih.gov/sites/batchentrez), the RunInfo.\n",
    "\n",
    "![image.png](./data/images/downloadingRunInfo.png)\n"
   ]
  },
  {
   "cell_type": "code",
   "execution_count": 38,
   "id": "9c9ad44c",
   "metadata": {
    "vscode": {
     "languageId": "r"
    }
   },
   "outputs": [
    {
     "data": {
      "text/html": [
       "<style>\n",
       ".list-inline {list-style: none; margin:0; padding: 0}\n",
       ".list-inline>li {display: inline-block}\n",
       ".list-inline>li:not(:last-child)::after {content: \"\\00b7\"; padding: 0 .5ex}\n",
       "</style>\n",
       "<ol class=list-inline><li>965</li><li>47</li></ol>\n"
      ],
      "text/latex": [
       "\\begin{enumerate*}\n",
       "\\item 965\n",
       "\\item 47\n",
       "\\end{enumerate*}\n"
      ],
      "text/markdown": [
       "1. 965\n",
       "2. 47\n",
       "\n",
       "\n"
      ],
      "text/plain": [
       "[1] 965  47"
      ]
     },
     "metadata": {},
     "output_type": "display_data"
    },
    {
     "data": {
      "text/html": [
       "<table class=\"dataframe\">\n",
       "<caption>A data.frame: 6 × 47</caption>\n",
       "<thead>\n",
       "\t<tr><th></th><th scope=col>Run</th><th scope=col>ReleaseDate</th><th scope=col>LoadDate</th><th scope=col>spots</th><th scope=col>bases</th><th scope=col>spots_with_mates</th><th scope=col>avgLength</th><th scope=col>size_MB</th><th scope=col>AssemblyName</th><th scope=col>download_path</th><th scope=col>⋯</th><th scope=col>Affection_Status</th><th scope=col>Analyte_Type</th><th scope=col>Histological_Type</th><th scope=col>Body_Site</th><th scope=col>CenterName</th><th scope=col>Submission</th><th scope=col>dbgap_study_accession</th><th scope=col>Consent</th><th scope=col>RunHash</th><th scope=col>ReadHash</th></tr>\n",
       "\t<tr><th></th><th scope=col>&lt;chr&gt;</th><th scope=col>&lt;chr&gt;</th><th scope=col>&lt;chr&gt;</th><th scope=col>&lt;chr&gt;</th><th scope=col>&lt;chr&gt;</th><th scope=col>&lt;chr&gt;</th><th scope=col>&lt;chr&gt;</th><th scope=col>&lt;chr&gt;</th><th scope=col>&lt;chr&gt;</th><th scope=col>&lt;chr&gt;</th><th scope=col>⋯</th><th scope=col>&lt;chr&gt;</th><th scope=col>&lt;chr&gt;</th><th scope=col>&lt;chr&gt;</th><th scope=col>&lt;chr&gt;</th><th scope=col>&lt;chr&gt;</th><th scope=col>&lt;chr&gt;</th><th scope=col>&lt;chr&gt;</th><th scope=col>&lt;chr&gt;</th><th scope=col>&lt;chr&gt;</th><th scope=col>&lt;chr&gt;</th></tr>\n",
       "</thead>\n",
       "<tbody>\n",
       "\t<tr><th scope=row>1</th><td>SRR22580782</td><td>2022-12-08 20:30:02</td><td>2024-03-22 13:17:57</td><td>15237504</td><td>1386612864</td><td>0      </td><td>91 </td><td>425</td><td></td><td>https://sra-downloadb.be-md.ncbi.nlm.nih.gov/sos8/sra-pub-zq-818/SRR022/22580/SRR22580782/SRR22580782.lite.3</td><td>⋯</td><td></td><td></td><td></td><td></td><td>ALEX                                          </td><td>SRA1556179 </td><td></td><td>public</td><td>27729F0975D6E9111B3A61505A84B884</td><td>92965CD8811D79DEF3B42AC12CD1D12A</td></tr>\n",
       "\t<tr><th scope=row>2</th><td>ERR6635504 </td><td>2021-09-28 01:10:21</td><td>2021-10-03 11:49:05</td><td>394506  </td><td>54552513  </td><td>394506 </td><td>138</td><td>12 </td><td></td><td>https://sra-downloadb.be-md.ncbi.nlm.nih.gov/sos1/sra-pub-zq-38/ERR006/6635/ERR6635504/ERR6635504.lite.1    </td><td>⋯</td><td></td><td></td><td></td><td></td><td>PUBLIC HEALTH AUTHORITY OF THE SLOVAK REPUBLIC</td><td>ERA6044664 </td><td></td><td>public</td><td>4876E0E3D6F650C27BDC28C6EDABAC85</td><td>54412B31E7F147A0BBBC003696066D2F</td></tr>\n",
       "\t<tr><th scope=row>3</th><td>ERR10094836</td><td>2022-08-19 21:09:42</td><td>2022-08-27 11:21:58</td><td>3391125 </td><td>668157294 </td><td>3391125</td><td>197</td><td>188</td><td></td><td>https://sra-downloadb.be-md.ncbi.nlm.nih.gov/sos8/sra-pub-zq-818/ERR010/10094/ERR10094836/ERR10094836.lite.1</td><td>⋯</td><td></td><td></td><td></td><td></td><td>PUBLIC HEALTH AUTHORITY OF THE SLOVAK REPUBLIC</td><td>ERA17021950</td><td></td><td>public</td><td>2FE309AC10744C8D08F1C83683167E0B</td><td>E146DE80B442D8350FBC6E760D38E34F</td></tr>\n",
       "\t<tr><th scope=row>4</th><td>SRR28752449</td><td>2024-04-20 18:20:39</td><td>2024-04-20 18:13:08</td><td>202432  </td><td>59363690  </td><td>202432 </td><td>293</td><td>18 </td><td></td><td>https://sra-downloadb.be-md.ncbi.nlm.nih.gov/sos5/sra-pub-zq-16/SRR028/28752/SRR28752449/SRR28752449.lite.1 </td><td>⋯</td><td></td><td></td><td></td><td></td><td>USDA-NVSL                                     </td><td>SRA1849807 </td><td></td><td>public</td><td>D1F0C2B9C9842798E5CB2090D3EEDFAA</td><td>87AF7DE11A71502C6CF27526233EAA25</td></tr>\n",
       "\t<tr><th scope=row>5</th><td>SRR28912842</td><td>2024-05-06 18:19:45</td><td>2024-05-06 17:11:24</td><td>64383   </td><td>28448840  </td><td>64383  </td><td>441</td><td>13 </td><td></td><td>https://sra-downloadb.be-md.ncbi.nlm.nih.gov/sos6/sra-pub-zq-40/SRR028/28912/SRR28912842/SRR28912842.lite.1 </td><td>⋯</td><td></td><td></td><td></td><td></td><td>USDA-NVSL                                     </td><td>SRA1860442 </td><td></td><td>public</td><td>6BAB591715A14115ADBE4CEDE637C4C2</td><td>B926861BFEBD1E0E0D837EAD9A4791E9</td></tr>\n",
       "\t<tr><th scope=row>6</th><td>SRR28752536</td><td>2024-04-20 18:20:35</td><td>2024-04-20 18:13:22</td><td>562954  </td><td>164503085 </td><td>562954 </td><td>292</td><td>50 </td><td></td><td>https://sra-downloadb.be-md.ncbi.nlm.nih.gov/sos5/sra-pub-zq-16/SRR028/28752/SRR28752536/SRR28752536.lite.1 </td><td>⋯</td><td></td><td></td><td></td><td></td><td>USDA-NVSL                                     </td><td>SRA1849807 </td><td></td><td>public</td><td>3E847B31A931995F18E10EEB685DB716</td><td>CE54A3344D30366BF2252EE203FC845D</td></tr>\n",
       "</tbody>\n",
       "</table>\n"
      ],
      "text/latex": [
       "A data.frame: 6 × 47\n",
       "\\begin{tabular}{r|lllllllllllllllllllll}\n",
       "  & Run & ReleaseDate & LoadDate & spots & bases & spots\\_with\\_mates & avgLength & size\\_MB & AssemblyName & download\\_path & ⋯ & Affection\\_Status & Analyte\\_Type & Histological\\_Type & Body\\_Site & CenterName & Submission & dbgap\\_study\\_accession & Consent & RunHash & ReadHash\\\\\n",
       "  & <chr> & <chr> & <chr> & <chr> & <chr> & <chr> & <chr> & <chr> & <chr> & <chr> & ⋯ & <chr> & <chr> & <chr> & <chr> & <chr> & <chr> & <chr> & <chr> & <chr> & <chr>\\\\\n",
       "\\hline\n",
       "\t1 & SRR22580782 & 2022-12-08 20:30:02 & 2024-03-22 13:17:57 & 15237504 & 1386612864 & 0       & 91  & 425 &  & https://sra-downloadb.be-md.ncbi.nlm.nih.gov/sos8/sra-pub-zq-818/SRR022/22580/SRR22580782/SRR22580782.lite.3 & ⋯ &  &  &  &  & ALEX                                           & SRA1556179  &  & public & 27729F0975D6E9111B3A61505A84B884 & 92965CD8811D79DEF3B42AC12CD1D12A\\\\\n",
       "\t2 & ERR6635504  & 2021-09-28 01:10:21 & 2021-10-03 11:49:05 & 394506   & 54552513   & 394506  & 138 & 12  &  & https://sra-downloadb.be-md.ncbi.nlm.nih.gov/sos1/sra-pub-zq-38/ERR006/6635/ERR6635504/ERR6635504.lite.1     & ⋯ &  &  &  &  & PUBLIC HEALTH AUTHORITY OF THE SLOVAK REPUBLIC & ERA6044664  &  & public & 4876E0E3D6F650C27BDC28C6EDABAC85 & 54412B31E7F147A0BBBC003696066D2F\\\\\n",
       "\t3 & ERR10094836 & 2022-08-19 21:09:42 & 2022-08-27 11:21:58 & 3391125  & 668157294  & 3391125 & 197 & 188 &  & https://sra-downloadb.be-md.ncbi.nlm.nih.gov/sos8/sra-pub-zq-818/ERR010/10094/ERR10094836/ERR10094836.lite.1 & ⋯ &  &  &  &  & PUBLIC HEALTH AUTHORITY OF THE SLOVAK REPUBLIC & ERA17021950 &  & public & 2FE309AC10744C8D08F1C83683167E0B & E146DE80B442D8350FBC6E760D38E34F\\\\\n",
       "\t4 & SRR28752449 & 2024-04-20 18:20:39 & 2024-04-20 18:13:08 & 202432   & 59363690   & 202432  & 293 & 18  &  & https://sra-downloadb.be-md.ncbi.nlm.nih.gov/sos5/sra-pub-zq-16/SRR028/28752/SRR28752449/SRR28752449.lite.1  & ⋯ &  &  &  &  & USDA-NVSL                                      & SRA1849807  &  & public & D1F0C2B9C9842798E5CB2090D3EEDFAA & 87AF7DE11A71502C6CF27526233EAA25\\\\\n",
       "\t5 & SRR28912842 & 2024-05-06 18:19:45 & 2024-05-06 17:11:24 & 64383    & 28448840   & 64383   & 441 & 13  &  & https://sra-downloadb.be-md.ncbi.nlm.nih.gov/sos6/sra-pub-zq-40/SRR028/28912/SRR28912842/SRR28912842.lite.1  & ⋯ &  &  &  &  & USDA-NVSL                                      & SRA1860442  &  & public & 6BAB591715A14115ADBE4CEDE637C4C2 & B926861BFEBD1E0E0D837EAD9A4791E9\\\\\n",
       "\t6 & SRR28752536 & 2024-04-20 18:20:35 & 2024-04-20 18:13:22 & 562954   & 164503085  & 562954  & 292 & 50  &  & https://sra-downloadb.be-md.ncbi.nlm.nih.gov/sos5/sra-pub-zq-16/SRR028/28752/SRR28752536/SRR28752536.lite.1  & ⋯ &  &  &  &  & USDA-NVSL                                      & SRA1849807  &  & public & 3E847B31A931995F18E10EEB685DB716 & CE54A3344D30366BF2252EE203FC845D\\\\\n",
       "\\end{tabular}\n"
      ],
      "text/markdown": [
       "\n",
       "A data.frame: 6 × 47\n",
       "\n",
       "| <!--/--> | Run &lt;chr&gt; | ReleaseDate &lt;chr&gt; | LoadDate &lt;chr&gt; | spots &lt;chr&gt; | bases &lt;chr&gt; | spots_with_mates &lt;chr&gt; | avgLength &lt;chr&gt; | size_MB &lt;chr&gt; | AssemblyName &lt;chr&gt; | download_path &lt;chr&gt; | ⋯ ⋯ | Affection_Status &lt;chr&gt; | Analyte_Type &lt;chr&gt; | Histological_Type &lt;chr&gt; | Body_Site &lt;chr&gt; | CenterName &lt;chr&gt; | Submission &lt;chr&gt; | dbgap_study_accession &lt;chr&gt; | Consent &lt;chr&gt; | RunHash &lt;chr&gt; | ReadHash &lt;chr&gt; |\n",
       "|---|---|---|---|---|---|---|---|---|---|---|---|---|---|---|---|---|---|---|---|---|---|\n",
       "| 1 | SRR22580782 | 2022-12-08 20:30:02 | 2024-03-22 13:17:57 | 15237504 | 1386612864 | 0       | 91  | 425 | <!----> | https://sra-downloadb.be-md.ncbi.nlm.nih.gov/sos8/sra-pub-zq-818/SRR022/22580/SRR22580782/SRR22580782.lite.3 | ⋯ | <!----> | <!----> | <!----> | <!----> | ALEX                                           | SRA1556179  | <!----> | public | 27729F0975D6E9111B3A61505A84B884 | 92965CD8811D79DEF3B42AC12CD1D12A |\n",
       "| 2 | ERR6635504  | 2021-09-28 01:10:21 | 2021-10-03 11:49:05 | 394506   | 54552513   | 394506  | 138 | 12  | <!----> | https://sra-downloadb.be-md.ncbi.nlm.nih.gov/sos1/sra-pub-zq-38/ERR006/6635/ERR6635504/ERR6635504.lite.1     | ⋯ | <!----> | <!----> | <!----> | <!----> | PUBLIC HEALTH AUTHORITY OF THE SLOVAK REPUBLIC | ERA6044664  | <!----> | public | 4876E0E3D6F650C27BDC28C6EDABAC85 | 54412B31E7F147A0BBBC003696066D2F |\n",
       "| 3 | ERR10094836 | 2022-08-19 21:09:42 | 2022-08-27 11:21:58 | 3391125  | 668157294  | 3391125 | 197 | 188 | <!----> | https://sra-downloadb.be-md.ncbi.nlm.nih.gov/sos8/sra-pub-zq-818/ERR010/10094/ERR10094836/ERR10094836.lite.1 | ⋯ | <!----> | <!----> | <!----> | <!----> | PUBLIC HEALTH AUTHORITY OF THE SLOVAK REPUBLIC | ERA17021950 | <!----> | public | 2FE309AC10744C8D08F1C83683167E0B | E146DE80B442D8350FBC6E760D38E34F |\n",
       "| 4 | SRR28752449 | 2024-04-20 18:20:39 | 2024-04-20 18:13:08 | 202432   | 59363690   | 202432  | 293 | 18  | <!----> | https://sra-downloadb.be-md.ncbi.nlm.nih.gov/sos5/sra-pub-zq-16/SRR028/28752/SRR28752449/SRR28752449.lite.1  | ⋯ | <!----> | <!----> | <!----> | <!----> | USDA-NVSL                                      | SRA1849807  | <!----> | public | D1F0C2B9C9842798E5CB2090D3EEDFAA | 87AF7DE11A71502C6CF27526233EAA25 |\n",
       "| 5 | SRR28912842 | 2024-05-06 18:19:45 | 2024-05-06 17:11:24 | 64383    | 28448840   | 64383   | 441 | 13  | <!----> | https://sra-downloadb.be-md.ncbi.nlm.nih.gov/sos6/sra-pub-zq-40/SRR028/28912/SRR28912842/SRR28912842.lite.1  | ⋯ | <!----> | <!----> | <!----> | <!----> | USDA-NVSL                                      | SRA1860442  | <!----> | public | 6BAB591715A14115ADBE4CEDE637C4C2 | B926861BFEBD1E0E0D837EAD9A4791E9 |\n",
       "| 6 | SRR28752536 | 2024-04-20 18:20:35 | 2024-04-20 18:13:22 | 562954   | 164503085  | 562954  | 292 | 50  | <!----> | https://sra-downloadb.be-md.ncbi.nlm.nih.gov/sos5/sra-pub-zq-16/SRR028/28752/SRR28752536/SRR28752536.lite.1  | ⋯ | <!----> | <!----> | <!----> | <!----> | USDA-NVSL                                      | SRA1849807  | <!----> | public | 3E847B31A931995F18E10EEB685DB716 | CE54A3344D30366BF2252EE203FC845D |\n",
       "\n"
      ],
      "text/plain": [
       "  Run         ReleaseDate         LoadDate            spots    bases     \n",
       "1 SRR22580782 2022-12-08 20:30:02 2024-03-22 13:17:57 15237504 1386612864\n",
       "2 ERR6635504  2021-09-28 01:10:21 2021-10-03 11:49:05 394506   54552513  \n",
       "3 ERR10094836 2022-08-19 21:09:42 2022-08-27 11:21:58 3391125  668157294 \n",
       "4 SRR28752449 2024-04-20 18:20:39 2024-04-20 18:13:08 202432   59363690  \n",
       "5 SRR28912842 2024-05-06 18:19:45 2024-05-06 17:11:24 64383    28448840  \n",
       "6 SRR28752536 2024-04-20 18:20:35 2024-04-20 18:13:22 562954   164503085 \n",
       "  spots_with_mates avgLength size_MB AssemblyName\n",
       "1 0                91        425                 \n",
       "2 394506           138       12                  \n",
       "3 3391125          197       188                 \n",
       "4 202432           293       18                  \n",
       "5 64383            441       13                  \n",
       "6 562954           292       50                  \n",
       "  download_path                                                                                               \n",
       "1 https://sra-downloadb.be-md.ncbi.nlm.nih.gov/sos8/sra-pub-zq-818/SRR022/22580/SRR22580782/SRR22580782.lite.3\n",
       "2 https://sra-downloadb.be-md.ncbi.nlm.nih.gov/sos1/sra-pub-zq-38/ERR006/6635/ERR6635504/ERR6635504.lite.1    \n",
       "3 https://sra-downloadb.be-md.ncbi.nlm.nih.gov/sos8/sra-pub-zq-818/ERR010/10094/ERR10094836/ERR10094836.lite.1\n",
       "4 https://sra-downloadb.be-md.ncbi.nlm.nih.gov/sos5/sra-pub-zq-16/SRR028/28752/SRR28752449/SRR28752449.lite.1 \n",
       "5 https://sra-downloadb.be-md.ncbi.nlm.nih.gov/sos6/sra-pub-zq-40/SRR028/28912/SRR28912842/SRR28912842.lite.1 \n",
       "6 https://sra-downloadb.be-md.ncbi.nlm.nih.gov/sos5/sra-pub-zq-16/SRR028/28752/SRR28752536/SRR28752536.lite.1 \n",
       "  ⋯ Affection_Status Analyte_Type Histological_Type Body_Site\n",
       "1 ⋯                                                          \n",
       "2 ⋯                                                          \n",
       "3 ⋯                                                          \n",
       "4 ⋯                                                          \n",
       "5 ⋯                                                          \n",
       "6 ⋯                                                          \n",
       "  CenterName                                     Submission \n",
       "1 ALEX                                           SRA1556179 \n",
       "2 PUBLIC HEALTH AUTHORITY OF THE SLOVAK REPUBLIC ERA6044664 \n",
       "3 PUBLIC HEALTH AUTHORITY OF THE SLOVAK REPUBLIC ERA17021950\n",
       "4 USDA-NVSL                                      SRA1849807 \n",
       "5 USDA-NVSL                                      SRA1860442 \n",
       "6 USDA-NVSL                                      SRA1849807 \n",
       "  dbgap_study_accession Consent RunHash                         \n",
       "1                       public  27729F0975D6E9111B3A61505A84B884\n",
       "2                       public  4876E0E3D6F650C27BDC28C6EDABAC85\n",
       "3                       public  2FE309AC10744C8D08F1C83683167E0B\n",
       "4                       public  D1F0C2B9C9842798E5CB2090D3EEDFAA\n",
       "5                       public  6BAB591715A14115ADBE4CEDE637C4C2\n",
       "6                       public  3E847B31A931995F18E10EEB685DB716\n",
       "  ReadHash                        \n",
       "1 92965CD8811D79DEF3B42AC12CD1D12A\n",
       "2 54412B31E7F147A0BBBC003696066D2F\n",
       "3 E146DE80B442D8350FBC6E760D38E34F\n",
       "4 87AF7DE11A71502C6CF27526233EAA25\n",
       "5 B926861BFEBD1E0E0D837EAD9A4791E9\n",
       "6 CE54A3344D30366BF2252EE203FC845D"
      ]
     },
     "metadata": {},
     "output_type": "display_data"
    }
   ],
   "source": [
    "runInfo <- read.csv(\"data/SraRunInfo.csv\", colClasses = \"character\")\n",
    "dim(runInfo)\n",
    "head(runInfo)"
   ]
  },
  {
   "cell_type": "markdown",
   "id": "42654a3e",
   "metadata": {},
   "source": [
    "Grouping it by species (defined by NCBI virus)\n"
   ]
  },
  {
   "cell_type": "code",
   "execution_count": 53,
   "id": "edbc916e",
   "metadata": {
    "vscode": {
     "languageId": "r"
    }
   },
   "outputs": [
    {
     "data": {
      "text/html": [
       "<table class=\"dataframe\">\n",
       "<caption>A tibble: 9 × 2</caption>\n",
       "<thead>\n",
       "\t<tr><th scope=col>Organism_Name</th><th scope=col>n</th></tr>\n",
       "\t<tr><th scope=col>&lt;chr&gt;</th><th scope=col>&lt;int&gt;</th></tr>\n",
       "</thead>\n",
       "<tbody>\n",
       "\t<tr><td>Ebola virus                                    </td><td> 92</td></tr>\n",
       "\t<tr><td>Human respiratory syncytial virus A            </td><td> 79</td></tr>\n",
       "\t<tr><td>Influenza A virus                              </td><td> 35</td></tr>\n",
       "\t<tr><td>Lassa mammarenavirus                           </td><td> 20</td></tr>\n",
       "\t<tr><td>Monkeypox virus                                </td><td>118</td></tr>\n",
       "\t<tr><td>Orthonairovirus haemorrhagiae                  </td><td>  3</td></tr>\n",
       "\t<tr><td>Severe acute respiratory syndrome coronavirus 2</td><td>612</td></tr>\n",
       "\t<tr><td>West Nile virus                                </td><td>  4</td></tr>\n",
       "\t<tr><td>Zika virus                                     </td><td> 28</td></tr>\n",
       "</tbody>\n",
       "</table>\n"
      ],
      "text/latex": [
       "A tibble: 9 × 2\n",
       "\\begin{tabular}{ll}\n",
       " Organism\\_Name & n\\\\\n",
       " <chr> & <int>\\\\\n",
       "\\hline\n",
       "\t Ebola virus                                     &  92\\\\\n",
       "\t Human respiratory syncytial virus A             &  79\\\\\n",
       "\t Influenza A virus                               &  35\\\\\n",
       "\t Lassa mammarenavirus                            &  20\\\\\n",
       "\t Monkeypox virus                                 & 118\\\\\n",
       "\t Orthonairovirus haemorrhagiae                   &   3\\\\\n",
       "\t Severe acute respiratory syndrome coronavirus 2 & 612\\\\\n",
       "\t West Nile virus                                 &   4\\\\\n",
       "\t Zika virus                                      &  28\\\\\n",
       "\\end{tabular}\n"
      ],
      "text/markdown": [
       "\n",
       "A tibble: 9 × 2\n",
       "\n",
       "| Organism_Name &lt;chr&gt; | n &lt;int&gt; |\n",
       "|---|---|\n",
       "| Ebola virus                                     |  92 |\n",
       "| Human respiratory syncytial virus A             |  79 |\n",
       "| Influenza A virus                               |  35 |\n",
       "| Lassa mammarenavirus                            |  20 |\n",
       "| Monkeypox virus                                 | 118 |\n",
       "| Orthonairovirus haemorrhagiae                   |   3 |\n",
       "| Severe acute respiratory syndrome coronavirus 2 | 612 |\n",
       "| West Nile virus                                 |   4 |\n",
       "| Zika virus                                      |  28 |\n",
       "\n"
      ],
      "text/plain": [
       "  Organism_Name                                   n  \n",
       "1 Ebola virus                                      92\n",
       "2 Human respiratory syncytial virus A              79\n",
       "3 Influenza A virus                                35\n",
       "4 Lassa mammarenavirus                             20\n",
       "5 Monkeypox virus                                 118\n",
       "6 Orthonairovirus haemorrhagiae                     3\n",
       "7 Severe acute respiratory syndrome coronavirus 2 612\n",
       "8 West Nile virus                                   4\n",
       "9 Zika virus                                       28"
      ]
     },
     "metadata": {},
     "output_type": "display_data"
    }
   ],
   "source": [
    "sequences %>% merge( runInfo, by.x = \"SRA_Accession\", by.y = \"Run\")%>%\n",
    "    # filter(Platform == \"ILLUMINA\", LibraryStrategy !=\"AMPLICON\")%>%\n",
    "    mutate(Organism_Name=gsub(\"Mammarenavirus lassaense\",\"Lassa mammarenavirus\",Organism_Name))%>%\n",
    "    group_by(Organism_Name)%>%\n",
    "    summarise(n = n())"
   ]
  },
  {
   "cell_type": "code",
   "execution_count": 52,
   "id": "9de2162f",
   "metadata": {
    "vscode": {
     "languageId": "r"
    }
   },
   "outputs": [
    {
     "data": {
      "text/html": [
       "<table class=\"dataframe\">\n",
       "<caption>A data.frame: 30 × 78</caption>\n",
       "<thead>\n",
       "\t<tr><th scope=col>SRA_Accession</th><th scope=col>Accession</th><th scope=col>Organism_Name</th><th scope=col>GenBank_RefSeq</th><th scope=col>Assembly</th><th scope=col>Submitters</th><th scope=col>Organization</th><th scope=col>Org_location</th><th scope=col>Release_Date</th><th scope=col>Isolate</th><th scope=col>⋯</th><th scope=col>Affection_Status</th><th scope=col>Analyte_Type</th><th scope=col>Histological_Type</th><th scope=col>Body_Site</th><th scope=col>CenterName</th><th scope=col>Submission</th><th scope=col>dbgap_study_accession</th><th scope=col>Consent</th><th scope=col>RunHash</th><th scope=col>ReadHash</th></tr>\n",
       "\t<tr><th scope=col>&lt;chr&gt;</th><th scope=col>&lt;chr&gt;</th><th scope=col>&lt;chr&gt;</th><th scope=col>&lt;chr&gt;</th><th scope=col>&lt;chr&gt;</th><th scope=col>&lt;chr&gt;</th><th scope=col>&lt;chr&gt;</th><th scope=col>&lt;chr&gt;</th><th scope=col>&lt;chr&gt;</th><th scope=col>&lt;chr&gt;</th><th scope=col>⋯</th><th scope=col>&lt;chr&gt;</th><th scope=col>&lt;chr&gt;</th><th scope=col>&lt;chr&gt;</th><th scope=col>&lt;chr&gt;</th><th scope=col>&lt;chr&gt;</th><th scope=col>&lt;chr&gt;</th><th scope=col>&lt;chr&gt;</th><th scope=col>&lt;chr&gt;</th><th scope=col>&lt;chr&gt;</th><th scope=col>&lt;chr&gt;</th></tr>\n",
       "</thead>\n",
       "<tbody>\n",
       "\t<tr><td>SRR21887137</td><td>OP628469</td><td>Monkeypox virus                                </td><td>GenBank</td><td>NA                                          </td><td>Sereewit,J., Xie,H., Roychoudhury,P., Greninger,A.L.                                                                                                                                                                                                                                                                                                                                                                                                                      </td><td>UW Virology, Laboratory Medicine                                                                                                </td><td>USA        </td><td>2022-10-13</td><td>MpxV/human/USA/WA-UW-086630/2022</td><td>⋯</td><td></td><td></td><td></td><td></td><td>ALEX                                                                                           </td><td>SRA1519228 </td><td></td><td>public</td><td>35039B00755AADF4210C1992F98DBDFE</td><td>6C49ED2E18AFD25BE3B76C4A94BD244F</td></tr>\n",
       "\t<tr><td>SRR10045993</td><td>OK573205</td><td>Lassa mammarenavirus                           </td><td>GenBank</td><td>NA                                          </td><td>Tallon,L., Sadzewicz,L., Vavikolanu,K., Mehta,A., Aluvathingal,J., Nadendla,S., Myers,T., Yan,Y., Sichtig,H.                                                                                                                                                                                                                                                                                                                                                              </td><td>US Food and Drug Administration, Center for Devices and Radiological Health                                                     </td><td>USA        </td><td>2022-07-30</td><td>Josiah                          </td><td>⋯</td><td></td><td></td><td></td><td></td><td>UMIGS                                                                                          </td><td>SRA949279  </td><td></td><td>public</td><td>48706EF4B0AAE225EE572EAADA423F0B</td><td>38260E1B171E9A752F5C5603CCAAAD0E</td></tr>\n",
       "\t<tr><td>DRR641190  </td><td>LC876662</td><td>Monkeypox virus                                </td><td>GenBank</td><td>NA                                          </td><td>NA                                                                                                                                                                                                                                                                                                                                                                                                                                                                        </td><td>Shinjuku, Tokyo 162-8640                                                                                                        </td><td>Japan      </td><td>2025-05-23</td><td>hMpoxV/Japan/MX23-022-02/2023   </td><td>⋯</td><td></td><td></td><td></td><td></td><td>REPOSITORY OF DATA AND BIOSPECIMEN OF INFECTIOUS D                                             </td><td>DRA020242  </td><td></td><td>public</td><td>C698661B7E80095225E789CDDC09DE5B</td><td>8C1C34F2ECE5F74442A7324854E18135</td></tr>\n",
       "\t<tr><td>SRR10027401</td><td>OK573121</td><td>Monkeypox virus                                </td><td>GenBank</td><td>NA                                          </td><td>Hunt,S., Shashan,N., Tallon,L., Sadzewicz,L., Vavikolanu,K., Mehta,A., Aluvathingal,J., Nadendla,S., Myers,T., Yan,Y., Sichtig,H.                                                                                                                                                                                                                                                                                                                                         </td><td>US Food and Drug Administration, Center for Devices and Radiological Health                                                     </td><td>USA        </td><td>2022-07-30</td><td>WRAIR 7-61                      </td><td>⋯</td><td></td><td></td><td></td><td></td><td>UMIGS                                                                                          </td><td>SRA949279  </td><td></td><td>public</td><td>863F0C2D4D63D5AB3DEF3597D27BD0ED</td><td>B617A70B9DE827EF15ACEA93EBD19168</td></tr>\n",
       "\t<tr><td>SRR21524972</td><td>OP392547</td><td>Monkeypox virus                                </td><td>GenBank</td><td>NA                                          </td><td>Sereewit,J., Xie,H., Roychoudhury,P., Greninger,A.L.                                                                                                                                                                                                                                                                                                                                                                                                                      </td><td>UW Virology, Laboratory Medicine                                                                                                </td><td>NA         </td><td>2022-09-08</td><td>MpxV/human/USA/WA-UW-085462/2022</td><td>⋯</td><td></td><td></td><td></td><td></td><td>ALEX                                                                                           </td><td>SRA1494719 </td><td></td><td>public</td><td>24EDEE1FB2E6EB1F62AC6BDF0BF4339D</td><td>357E99C832B8DCF8D07200A9FC88A03B</td></tr>\n",
       "\t<tr><td>SRR21684326</td><td>OP378699</td><td>Monkeypox virus                                </td><td>GenBank</td><td>NA                                          </td><td>Gigante,C.M., Pavlick,J., Zhao,H., Batra,D., Hetrick,E.E., Howard,D.T., Kovar,L., Seabolt,M.H., Weigand,M.R., Burroughs,M., Lee,J., Wilkins,K., McCollum,A., Hutson,C., Davidson,W., Rao,A., Parrott,T., Li,Y.                                                                                                                                                                                                                                                            </td><td>CDC, DHCPP-PRB                                                                                                                  </td><td>USA        </td><td>2022-09-06</td><td>MPXV_USA_2022_GA0013            </td><td>⋯</td><td></td><td></td><td></td><td></td><td>CDC-DHCPP-PRB                                                                                  </td><td>SRA1504797 </td><td></td><td>public</td><td>E6637DC54FFA14AEAC1341ECD9F5B88C</td><td>E5005AA099BF221161F1B11C9FD7A5F6</td></tr>\n",
       "\t<tr><td>SRR21714303</td><td>OP185715</td><td>Monkeypox virus                                </td><td>GenBank</td><td>NA                                          </td><td>Gigante,C.M., Steidley,B., Seabolt,M.H., Zhao,H., Wilkins,K., McCollum,A., Hutson,C., Davidson,W., Rao,A., Davizon,E.S., Li,Y.                                                                                                                                                                                                                                                                                                                                            </td><td>CDC, DHCPP-PRB                                                                                                                  </td><td>USA        </td><td>2022-08-10</td><td>MPXV_USA_2022_CO0002            </td><td>⋯</td><td></td><td></td><td></td><td></td><td>CDC-DHCPP-PRB                                                                                  </td><td>SRA1507542 </td><td></td><td>public</td><td>66A29AD97DCA92BA6442B46E4AB1EEEC</td><td>1397041F89C61B1901C7E834ACA4AAE4</td></tr>\n",
       "\t<tr><td>ERR8526503 </td><td>OV282807</td><td>Severe acute respiratory syndrome coronavirus 2</td><td>GenBank</td><td>NA                                          </td><td>NA                                                                                                                                                                                                                                                                                                                                                                                                                                                                        </td><td>SIB, Ch. des Mines 9                                                                                                            </td><td>Switzerland</td><td>2021-12-18</td><td>VD-CHUV-GEN8857                 </td><td>⋯</td><td></td><td></td><td></td><td></td><td>LABORATORY OF GENOMICS AND METAGENOMICS, INSTITUTE                                             </td><td>ERA9013651 </td><td></td><td>public</td><td>FB87549C872AD2AE9391839BBFDF2A49</td><td>99FFAC0B0307AB96992B152B80CE6CD9</td></tr>\n",
       "\t<tr><td>SRR23580685</td><td>OQ503757</td><td>Monkeypox virus                                </td><td>GenBank</td><td>NA                                          </td><td>Sereewit,J., Xie,H., Roychoudhury,P., Greninger,A.L.                                                                                                                                                                                                                                                                                                                                                                                                                      </td><td>UW Virology, Laboratory Medicine                                                                                                </td><td>USA        </td><td>2023-02-28</td><td>MpxV/human/USA/WA-UW-086924/2022</td><td>⋯</td><td></td><td></td><td></td><td></td><td>ALEX                                                                                           </td><td>SRA1593903 </td><td></td><td>public</td><td>D422D5BF76A63726DF4FE6FE7CEFC583</td><td>1CD8387AB23EA269FFC64693D5348E56</td></tr>\n",
       "\t<tr><td>SRR32006916</td><td>PV159921</td><td>Influenza A virus                              </td><td>GenBank</td><td>GCA_047941905.1                             </td><td>Aufderhar,M., Franzen,K., Killian,M.L., Lantz,K., Stuber,T., Hicks,J., Norris,C., Lakin,S.                                                                                                                                                                                                                                                                                                                                                                                </td><td>USDA Animal Plant Health Inspection Service-National Veterinary Services Laboratories, National Veterinary Services Laboratories</td><td>USA        </td><td>2025-02-21</td><td>24-038978-002-original          </td><td>⋯</td><td></td><td></td><td></td><td></td><td>USDA-NVSL                                                                                      </td><td>SRA2051688 </td><td></td><td>public</td><td>AFF00681CB967F3824CB8BC6B5C5A75F</td><td>9BF118F293C7D0A49A28DC2983964416</td></tr>\n",
       "\t<tr><td>SRR22831221</td><td>OQ791485</td><td>Lassa mammarenavirus                           </td><td>GenBank</td><td>NA                                          </td><td>Oguzie,J.U., Petros,B.A., Oluniyi,P.E., Mehta,S.B., Eromon,P.E., Adewale-Fasoro,O., Ifoga,P.D., Odia,I., Pastusiak,A., Gbemisola,O.S., Aiyepada,J.O., Uyigue,E.A., Edamhande,A.P., Blessing,O., Airende,M., Nair,P., Tomkins-Tinch,C., Qu,J., Stenson,L., Oyejide,N., Ajayi,N.A., Ojide,K., Ogah,O., Abejegah,C., Adedosu,N., Ayodeji,O., Okogbenin,S., Okokhere,P.O., Folarin,O.A., Komolafe,I., Ihekweazu,C., Frost,S., Jackson,E., Siddle,K.J., Sabeti,P.C., Happi,C.T.</td><td>African Centre of Excellence for Genomics of Infectious Diseases(ACEGID), Redeemer's University, Biological Sciences            </td><td>Nigeria    </td><td>2023-04-26</td><td>a0423                           </td><td>⋯</td><td></td><td></td><td></td><td></td><td>AFRICAN CENTRE OF EXCELLENCE FOR GENOMICS OF INFECTIOUS DISEASES(ACEGID), REDEEMER'S UNIVERSITY</td><td>SRA1563049 </td><td></td><td>public</td><td>BC0F4546D71F48F2F400C9920A4BEC11</td><td>13C90D00502F73959C6259EF11C27670</td></tr>\n",
       "\t<tr><td>SRR10017689</td><td>OK573099</td><td>Monkeypox virus                                </td><td>GenBank</td><td>NA                                          </td><td>Shashan,N., Makarenko,J., Tallon,L., Sadzewicz,L., Vavikolanu,K., Mehta,A., Aluvathingal,J., Nadendla,S., Myers,T., Yan,Y., Sichtig,H.                                                                                                                                                                                                                                                                                                                                    </td><td>US Food and Drug Administration, Center for Devices and Radiological Health                                                     </td><td>USA        </td><td>2022-07-30</td><td>USA-2003                        </td><td>⋯</td><td></td><td></td><td></td><td></td><td>UMIGS                                                                                          </td><td>SRA949279  </td><td></td><td>public</td><td>90F340D6BEA15ABF368A03E71DD4C8ED</td><td>0BAFA24639735CE55EB4CC866E1201D3</td></tr>\n",
       "\t<tr><td>SRR32579463</td><td>PV242746</td><td>Influenza A virus                              </td><td>GenBank</td><td>GCA_048516235.1                             </td><td>Paull,J., Messer,K., Adams,G., Nabatanzi,D., Dobbins,S., Tomkins-Tinch,C., Mboowa,G., Luebbert,L., Worby,C., Wewior,N., Samani,P., DeRuff,K., Blumenstiel,B., Moreno,G., Earl,A., Gnirke,A., MacInnis,B., Sabeti,P., Lemieux,J., Park,D.                                                                                                                                                                                                                                  </td><td>Broad Institute of MIT and Harvard, Infectious Disease and Microbiome Program                                                   </td><td>USA        </td><td>2025-03-07</td><td>MA-Broad_MGH-23111              </td><td>⋯</td><td></td><td></td><td></td><td></td><td>BROAD_GCID                                                                                     </td><td>SRA2088832 </td><td></td><td>public</td><td>14E35036BE7E180EE4E204BB2F71E58D</td><td>CBE14ECC81D0F6637CE9BAAA3AC094AA</td></tr>\n",
       "\t<tr><td>DRR641191  </td><td>LC876663</td><td>Monkeypox virus                                </td><td>GenBank</td><td>NA                                          </td><td>NA                                                                                                                                                                                                                                                                                                                                                                                                                                                                        </td><td>Shinjuku, Tokyo 162-8640                                                                                                        </td><td>Japan      </td><td>2025-05-23</td><td>hMpoxV/Japan/MX23-023-01/2023   </td><td>⋯</td><td></td><td></td><td></td><td></td><td>REPOSITORY OF DATA AND BIOSPECIMEN OF INFECTIOUS D                                             </td><td>DRA020242  </td><td></td><td>public</td><td>1039C3B64C6F066EC811DC36BB657FB0</td><td>2EF0FC54373D5CB82FEC9E5743991B78</td></tr>\n",
       "\t<tr><td>SRR10017654</td><td>OK573218</td><td>Orthonairovirus haemorrhagiae                  </td><td>GenBank</td><td>NA                                          </td><td>Tallon,L., Sadzewicz,L., Vavikolanu,K., Mehta,A., Aluvathingal,J., Nadendla,S., Myers,T., Yan,Y., Sichtig,H.                                                                                                                                                                                                                                                                                                                                                              </td><td>US Food and Drug Administration, Center for Devices and Radiological Health                                                     </td><td>USA        </td><td>2022-07-30</td><td>IbAr10200                       </td><td>⋯</td><td></td><td></td><td></td><td></td><td>UMIGS                                                                                          </td><td>SRA949279  </td><td></td><td>public</td><td>AB01F64AE1C71AE2A7EE69488F184328</td><td>AB8E4D332ED9F7F7BD482017E449F78B</td></tr>\n",
       "\t<tr><td>SRR26661245</td><td>OR766785</td><td>Monkeypox virus                                </td><td>GenBank</td><td>NA                                          </td><td>Sereewit,J., Nunley,E.B., Xie,H., Roychoudhury,P., Greninger,A.L.                                                                                                                                                                                                                                                                                                                                                                                                         </td><td>University of Washington Dept. Laboratory Medicine and Pathology, Virology Division                                             </td><td>USA        </td><td>2023-11-13</td><td>MpxV/human/USA/WA-UW-101148/2023</td><td>⋯</td><td></td><td></td><td></td><td></td><td>ALEX                                                                                           </td><td>SRA1744540 </td><td></td><td>public</td><td>D3716744C16EDA95987566499C2D64ED</td><td>7C9A86EED7FBE5DBBCBD04E2189C0077</td></tr>\n",
       "\t<tr><td>SRR21524979</td><td>OP442947</td><td>Monkeypox virus                                </td><td>GenBank</td><td>NA                                          </td><td>Sereewit,J., Xie,H., Roychoudhury,P., Greninger,A.L.                                                                                                                                                                                                                                                                                                                                                                                                                      </td><td>UW Virology, Laboratory Medicine                                                                                                </td><td>USA        </td><td>2022-09-15</td><td>MpxV/human/USA/WA-UW-088793/2022</td><td>⋯</td><td></td><td></td><td></td><td></td><td>ALEX                                                                                           </td><td>SRA1494719 </td><td></td><td>public</td><td>C337A35F56877F51C5A112891BE1A203</td><td>0307FAB1B25554F6BB6998C7E3055B7F</td></tr>\n",
       "\t<tr><td>SRR33051146</td><td>PV480154</td><td>Influenza A virus                              </td><td>GenBank</td><td>GCA_049540095.1                             </td><td>Paull,J., Messer,K., Adams,G., Nabatanzi,D., Dobbins,S., Tomkins-Tinch,C., Mboowa,G., Luebbert,L., Worby,C., Wewior,N., Samani,P., DeRuff,K., Blumenstiel,B., Moreno,G., Earl,A., Gnirke,A., MacInnis,B., Sabeti,P., Lemieux,J., Park,D.                                                                                                                                                                                                                                  </td><td>Broad Institute of MIT and Harvard, Infectious Disease and Microbiome Program                                                   </td><td>USA        </td><td>2025-04-11</td><td>MA-Broad_MGH-23688              </td><td>⋯</td><td></td><td></td><td></td><td></td><td>BROAD_GCID                                                                                     </td><td>SRA2109197 </td><td></td><td>public</td><td>FDE62BAEE70CDB5F65DF1DB048AE394F</td><td>103A2DDA9BFBB29C9979D38C36B8FB8C</td></tr>\n",
       "\t<tr><td>SRR21837776</td><td>OP603007</td><td>Monkeypox virus                                </td><td>GenBank</td><td>NA                                          </td><td>Gigante,C.M., Xia,D., Zhao,H., Batra,D., Hetrick,E.E., Howard,D.T., Kovar,L., Seabolt,M.H., Weigand,M.R., Burroughs,M., Lee,J., Wilkins,K., McCollum,A., Hutson,C., Davidson,W., Rao,A., Plipat,N., Li,Y.                                                                                                                                                                                                                                                                 </td><td>CDC, DHCPP-PRB                                                                                                                  </td><td>USA        </td><td>2022-10-10</td><td>MPXV_USA_2022_PA0007            </td><td>⋯</td><td></td><td></td><td></td><td></td><td>CDC-DHCPP-PRB                                                                                  </td><td>SRA1515785 </td><td></td><td>public</td><td>7E8B877A3F6A7124DFFB33F8760065B6</td><td>419C45BAE7E037F4B3E44E510F833058</td></tr>\n",
       "\t<tr><td>ERR8664992 </td><td>OV520362</td><td>Severe acute respiratory syndrome coronavirus 2</td><td>GenBank</td><td>NA                                          </td><td>NA                                                                                                                                                                                                                                                                                                                                                                                                                                                                        </td><td>SIB, Ch. des Mines 9                                                                                                            </td><td>Switzerland</td><td>2022-01-17</td><td>AI-CLM-01054488                 </td><td>⋯</td><td></td><td></td><td></td><td></td><td>CENTER FOR LABORATORY MEDICINE ST. GALLEN                                                      </td><td>ERA9144680 </td><td></td><td>public</td><td>3E533A6D0CE841779F2DE320954D4157</td><td>5272CA5861BC58F4FCD53153B50BFEE2</td></tr>\n",
       "\t<tr><td>ERR13161266</td><td>OZ065334</td><td>Severe acute respiratory syndrome coronavirus 2</td><td>GenBank</td><td>NA                                          </td><td>Poklepovich Caride J,T., Lorenzo,F.                                                                                                                                                                                                                                                                                                                                                                                                                                       </td><td>ANLIS Malbran, Avenida Velez Sarsfield 563, CABA                                                                                </td><td>Argentina  </td><td>2024-05-31</td><td>INEI111361                      </td><td>⋯</td><td></td><td></td><td></td><td></td><td>ANLIS MALBRAN                                                                                  </td><td>ERA30464054</td><td></td><td>public</td><td>8B3F7F57E5A4624ECA8117BB7F72D7E2</td><td>DC6387D1A342BEC301367E097C07DE0F</td></tr>\n",
       "\t<tr><td>SRR23322644</td><td>OQ427115</td><td>Monkeypox virus                                </td><td>GenBank</td><td>NA                                          </td><td>Gigante,C., Ruiz,V., Zhao,H., Batra,D., Hetrick,E., Howard,D., Kovar,L., Seabolt,M., Morrison,S., Desch,M., Knipe,K., Weigand,M., Sheth,M., Burgin,A., Burroughs,M., Lee,J., Wilkins,K., McCollum,A., Hutson,C., Davidson,W., Rao,A., Wang,J., Li,Y.                                                                                                                                                                                                                      </td><td>CDC, DHCPP-PRB                                                                                                                  </td><td>USA        </td><td>2023-02-18</td><td>MPXV_USA_2022_NY0040            </td><td>⋯</td><td></td><td></td><td></td><td></td><td>CDC-DHCPP-PRB                                                                                  </td><td>SRA1584081 </td><td></td><td>public</td><td>9CC149ED2546734727CC8D9DCFDC1B99</td><td>E71364CB0323F6FEE1481BE121B93537</td></tr>\n",
       "\t<tr><td>SRR10017190</td><td>OK573271</td><td>West Nile virus                                </td><td>GenBank</td><td>NA                                          </td><td>Rios,M., Fares-Gusmao,R., Volkova,E., Grinev,A., Assis,F., Chancey,C., Ok,S., Rocha,B., Sippert,E., Tallon,L., Sadzewicz,L., Vavikolanu,K., Mehta,A., Aluvathingal,J., Nadendla,S., Yan,Y., Sichtig,H.                                                                                                                                                                                                                                                                    </td><td>US Food and Drug Administration, Center for Devices and Radiological Health                                                     </td><td>USA        </td><td>2022-07-30</td><td>BSL107-12                       </td><td>⋯</td><td></td><td></td><td></td><td></td><td>UMIGS                                                                                          </td><td>SRA949279  </td><td></td><td>public</td><td>4DF6A89233E5052276A4EED9289814AC</td><td>7EF4289A33DD4CBAFD5B558249F8ADB1</td></tr>\n",
       "\t<tr><td>SRR31821236</td><td>PQ832923</td><td>Influenza A virus                              </td><td>GenBank</td><td>GCA_046514125.1                             </td><td>Aufderhar,M., Franzen,K., Killian,M., Lantz,K., Stuber,T., Hicks,J., Norris,C., Lakin,S.                                                                                                                                                                                                                                                                                                                                                                                  </td><td>USDA Animal Plant Health Inspection Service-National Veterinary Services Laboratories, National Veterinary Services Laboratories</td><td>USA        </td><td>2025-01-03</td><td>24-037225-022-original          </td><td>⋯</td><td></td><td></td><td></td><td></td><td>USDA-NVSL                                                                                      </td><td>SRA2040783 </td><td></td><td>public</td><td>3A6854373660BB64A3B5640D40EB81AA</td><td>0E9744994EEE70EED422EAC6079121FE</td></tr>\n",
       "\t<tr><td>SRR28752531</td><td>PP753176</td><td>Influenza A virus                              </td><td>GenBank</td><td>GCA_039464395.1                             </td><td>Nguyen,T., Hutter,C., Markin,A., Thomas,M., Lantz,K., Killian,M.L., Janzen,G.M., Vijendran,S., Wagle,S., Inderski,B., Magstadt,D.R., Li,G., Diel,D.G., Frye,E.A., Dimitrov,K.M., Swinford,A.K., Thompson,A.C., Snevik,K.R., Suarez,D.L., Spackman,E., Lakin,S.M., C,S., Johnson,K.R., Baker,A.L., Robbe-Austerman,S., Torchetti,M.K., Anderson,T.K., Anderson,T.                                                                                                          </td><td>National Animal Disease Center, USDA-ARS                                                                                        </td><td>USA        </td><td>2024-05-03</td><td>NA                              </td><td>⋯</td><td></td><td></td><td></td><td></td><td>USDA-NVSL                                                                                      </td><td>SRA1849807 </td><td></td><td>public</td><td>6163C8D946004E8AA4919790BE02DF90</td><td>2EAAB691F5CAE5F22E4B143304796945</td></tr>\n",
       "\t<tr><td>SRR22708627</td><td>OQ054220</td><td>Monkeypox virus                                </td><td>GenBank</td><td>NA                                          </td><td>Gigante,C., Hottel,W., Zhao,H., Batra,D., Hetrick,E., Howard,D., Kovar,L., Seabolt,M., Morrison,S., Desch,M., Knipe,K., Weigand,M., Sheth,M., Burgin,A., Burroughs,M., Lee,J., Wilkins,K., McCollum,A., Hutson,C., Davidson,W., Rao,A., Nelson,M., Li,Y.                                                                                                                                                                                                                  </td><td>CDC, DHCPP-PRB                                                                                                                  </td><td>USA        </td><td>2022-12-15</td><td>MPXV_USA_2022_IA0001            </td><td>⋯</td><td></td><td></td><td></td><td></td><td>CDC-DHCPP-PRB                                                                                  </td><td>SRA1558291 </td><td></td><td>public</td><td>8A04678FAB83089DDB0CDC29831DC2BB</td><td>94C35CF2D5AB102DD614CD8DE64DDB24</td></tr>\n",
       "\t<tr><td>SRR22580782</td><td>OP890322</td><td>Human respiratory syncytial virus A            </td><td>GenBank</td><td>NA                                          </td><td>Goya,S., Sereewit,J., Pfalmer,D., Nguyen,T., Bakhash,S.A.K.M., Sobolik,E.B., Greninger,A.L.                                                                                                                                                                                                                                                                                                                                                                               </td><td>UW Virology, Laboratory Medicine                                                                                                </td><td>USA        </td><td>2022-12-04</td><td>hRSV/A/USA/2022DT79D/2022       </td><td>⋯</td><td></td><td></td><td></td><td></td><td>ALEX                                                                                           </td><td>SRA1556179 </td><td></td><td>public</td><td>27729F0975D6E9111B3A61505A84B884</td><td>92965CD8811D79DEF3B42AC12CD1D12A</td></tr>\n",
       "\t<tr><td>ERR10297626</td><td>OX344867</td><td>Monkeypox virus                                </td><td>GenBank</td><td>NA                                          </td><td>Cuesta,I.                                                                                                                                                                                                                                                                                                                                                                                                                                                                 </td><td>Institute of Health Carlos III, Bioinformatics Unit, Carretera Majadahonda-Pozuelo km2                                          </td><td>Spain      </td><td>2022-10-06</td><td>MPXV_419_SP_2022                </td><td>⋯</td><td></td><td></td><td></td><td></td><td>INSTITUTE OF HEALTH CARLOS III                                                                 </td><td>ERA18504704</td><td></td><td>public</td><td>90BC2642B7191C43CF9771F5407692E4</td><td>E13BABF3CFB999F20A12E81FC74D55B1</td></tr>\n",
       "\t<tr><td>SRR32006872</td><td>PV162097</td><td>Influenza A virus                              </td><td>GenBank</td><td>GCA_047942235.1                             </td><td>Aufderhar,M., Franzen,K., Killian,M.L., Lantz,K., Stuber,T., Hicks,J., Norris,C., Lakin,S.                                                                                                                                                                                                                                                                                                                                                                                </td><td>USDA Animal Plant Health Inspection Service-National Veterinary Services Laboratories, National Veterinary Services Laboratories</td><td>USA        </td><td>2025-02-21</td><td>25-000082-002-original          </td><td>⋯</td><td></td><td></td><td></td><td></td><td>USDA-NVSL                                                                                      </td><td>SRA2051688 </td><td></td><td>public</td><td>ABC96DFE798DF1D1CBFA799638210056</td><td>104846420EACB2F211E0E643B46D8E19</td></tr>\n",
       "\t<tr><td>SRR3209113 </td><td>KU978807</td><td>Lassa mammarenavirus                           </td><td>GenBank</td><td>set:0ab29a8fe04dfd754a53d597d61d2073fce7b1c7</td><td>Rossi,S.L., Guerbois,M., Forrester,N.L., Ksiazek,T., Lin,D., Hari,K., Weaver,S.C.                                                                                                                                                                                                                                                                                                                                                                                         </td><td>University of Texas Medical Branch, Microbiology and Immunology                                                                 </td><td>USA        </td><td>2017-03-25</td><td>Guinea Faranah                  </td><td>⋯</td><td></td><td></td><td></td><td></td><td>CBIO INC                                                                                       </td><td>SRA379491  </td><td></td><td>public</td><td>9B105070592B10487CA54ACF6679964B</td><td>27C68DCCED7D7FE2D18DD2CEAC0CEAFE</td></tr>\n",
       "</tbody>\n",
       "</table>\n"
      ],
      "text/latex": [
       "A data.frame: 30 × 78\n",
       "\\begin{tabular}{lllllllllllllllllllll}\n",
       " SRA\\_Accession & Accession & Organism\\_Name & GenBank\\_RefSeq & Assembly & Submitters & Organization & Org\\_location & Release\\_Date & Isolate & ⋯ & Affection\\_Status & Analyte\\_Type & Histological\\_Type & Body\\_Site & CenterName & Submission & dbgap\\_study\\_accession & Consent & RunHash & ReadHash\\\\\n",
       " <chr> & <chr> & <chr> & <chr> & <chr> & <chr> & <chr> & <chr> & <chr> & <chr> & ⋯ & <chr> & <chr> & <chr> & <chr> & <chr> & <chr> & <chr> & <chr> & <chr> & <chr>\\\\\n",
       "\\hline\n",
       "\t SRR21887137 & OP628469 & Monkeypox virus                                 & GenBank & NA                                           & Sereewit,J., Xie,H., Roychoudhury,P., Greninger,A.L.                                                                                                                                                                                                                                                                                                                                                                                                                       & UW Virology, Laboratory Medicine                                                                                                 & USA         & 2022-10-13 & MpxV/human/USA/WA-UW-086630/2022 & ⋯ &  &  &  &  & ALEX                                                                                            & SRA1519228  &  & public & 35039B00755AADF4210C1992F98DBDFE & 6C49ED2E18AFD25BE3B76C4A94BD244F\\\\\n",
       "\t SRR10045993 & OK573205 & Lassa mammarenavirus                            & GenBank & NA                                           & Tallon,L., Sadzewicz,L., Vavikolanu,K., Mehta,A., Aluvathingal,J., Nadendla,S., Myers,T., Yan,Y., Sichtig,H.                                                                                                                                                                                                                                                                                                                                                               & US Food and Drug Administration, Center for Devices and Radiological Health                                                      & USA         & 2022-07-30 & Josiah                           & ⋯ &  &  &  &  & UMIGS                                                                                           & SRA949279   &  & public & 48706EF4B0AAE225EE572EAADA423F0B & 38260E1B171E9A752F5C5603CCAAAD0E\\\\\n",
       "\t DRR641190   & LC876662 & Monkeypox virus                                 & GenBank & NA                                           & NA                                                                                                                                                                                                                                                                                                                                                                                                                                                                         & Shinjuku, Tokyo 162-8640                                                                                                         & Japan       & 2025-05-23 & hMpoxV/Japan/MX23-022-02/2023    & ⋯ &  &  &  &  & REPOSITORY OF DATA AND BIOSPECIMEN OF INFECTIOUS D                                              & DRA020242   &  & public & C698661B7E80095225E789CDDC09DE5B & 8C1C34F2ECE5F74442A7324854E18135\\\\\n",
       "\t SRR10027401 & OK573121 & Monkeypox virus                                 & GenBank & NA                                           & Hunt,S., Shashan,N., Tallon,L., Sadzewicz,L., Vavikolanu,K., Mehta,A., Aluvathingal,J., Nadendla,S., Myers,T., Yan,Y., Sichtig,H.                                                                                                                                                                                                                                                                                                                                          & US Food and Drug Administration, Center for Devices and Radiological Health                                                      & USA         & 2022-07-30 & WRAIR 7-61                       & ⋯ &  &  &  &  & UMIGS                                                                                           & SRA949279   &  & public & 863F0C2D4D63D5AB3DEF3597D27BD0ED & B617A70B9DE827EF15ACEA93EBD19168\\\\\n",
       "\t SRR21524972 & OP392547 & Monkeypox virus                                 & GenBank & NA                                           & Sereewit,J., Xie,H., Roychoudhury,P., Greninger,A.L.                                                                                                                                                                                                                                                                                                                                                                                                                       & UW Virology, Laboratory Medicine                                                                                                 & NA          & 2022-09-08 & MpxV/human/USA/WA-UW-085462/2022 & ⋯ &  &  &  &  & ALEX                                                                                            & SRA1494719  &  & public & 24EDEE1FB2E6EB1F62AC6BDF0BF4339D & 357E99C832B8DCF8D07200A9FC88A03B\\\\\n",
       "\t SRR21684326 & OP378699 & Monkeypox virus                                 & GenBank & NA                                           & Gigante,C.M., Pavlick,J., Zhao,H., Batra,D., Hetrick,E.E., Howard,D.T., Kovar,L., Seabolt,M.H., Weigand,M.R., Burroughs,M., Lee,J., Wilkins,K., McCollum,A., Hutson,C., Davidson,W., Rao,A., Parrott,T., Li,Y.                                                                                                                                                                                                                                                             & CDC, DHCPP-PRB                                                                                                                   & USA         & 2022-09-06 & MPXV\\_USA\\_2022\\_GA0013             & ⋯ &  &  &  &  & CDC-DHCPP-PRB                                                                                   & SRA1504797  &  & public & E6637DC54FFA14AEAC1341ECD9F5B88C & E5005AA099BF221161F1B11C9FD7A5F6\\\\\n",
       "\t SRR21714303 & OP185715 & Monkeypox virus                                 & GenBank & NA                                           & Gigante,C.M., Steidley,B., Seabolt,M.H., Zhao,H., Wilkins,K., McCollum,A., Hutson,C., Davidson,W., Rao,A., Davizon,E.S., Li,Y.                                                                                                                                                                                                                                                                                                                                             & CDC, DHCPP-PRB                                                                                                                   & USA         & 2022-08-10 & MPXV\\_USA\\_2022\\_CO0002             & ⋯ &  &  &  &  & CDC-DHCPP-PRB                                                                                   & SRA1507542  &  & public & 66A29AD97DCA92BA6442B46E4AB1EEEC & 1397041F89C61B1901C7E834ACA4AAE4\\\\\n",
       "\t ERR8526503  & OV282807 & Severe acute respiratory syndrome coronavirus 2 & GenBank & NA                                           & NA                                                                                                                                                                                                                                                                                                                                                                                                                                                                         & SIB, Ch. des Mines 9                                                                                                             & Switzerland & 2021-12-18 & VD-CHUV-GEN8857                  & ⋯ &  &  &  &  & LABORATORY OF GENOMICS AND METAGENOMICS, INSTITUTE                                              & ERA9013651  &  & public & FB87549C872AD2AE9391839BBFDF2A49 & 99FFAC0B0307AB96992B152B80CE6CD9\\\\\n",
       "\t SRR23580685 & OQ503757 & Monkeypox virus                                 & GenBank & NA                                           & Sereewit,J., Xie,H., Roychoudhury,P., Greninger,A.L.                                                                                                                                                                                                                                                                                                                                                                                                                       & UW Virology, Laboratory Medicine                                                                                                 & USA         & 2023-02-28 & MpxV/human/USA/WA-UW-086924/2022 & ⋯ &  &  &  &  & ALEX                                                                                            & SRA1593903  &  & public & D422D5BF76A63726DF4FE6FE7CEFC583 & 1CD8387AB23EA269FFC64693D5348E56\\\\\n",
       "\t SRR32006916 & PV159921 & Influenza A virus                               & GenBank & GCA\\_047941905.1                              & Aufderhar,M., Franzen,K., Killian,M.L., Lantz,K., Stuber,T., Hicks,J., Norris,C., Lakin,S.                                                                                                                                                                                                                                                                                                                                                                                 & USDA Animal Plant Health Inspection Service-National Veterinary Services Laboratories, National Veterinary Services Laboratories & USA         & 2025-02-21 & 24-038978-002-original           & ⋯ &  &  &  &  & USDA-NVSL                                                                                       & SRA2051688  &  & public & AFF00681CB967F3824CB8BC6B5C5A75F & 9BF118F293C7D0A49A28DC2983964416\\\\\n",
       "\t SRR22831221 & OQ791485 & Lassa mammarenavirus                            & GenBank & NA                                           & Oguzie,J.U., Petros,B.A., Oluniyi,P.E., Mehta,S.B., Eromon,P.E., Adewale-Fasoro,O., Ifoga,P.D., Odia,I., Pastusiak,A., Gbemisola,O.S., Aiyepada,J.O., Uyigue,E.A., Edamhande,A.P., Blessing,O., Airende,M., Nair,P., Tomkins-Tinch,C., Qu,J., Stenson,L., Oyejide,N., Ajayi,N.A., Ojide,K., Ogah,O., Abejegah,C., Adedosu,N., Ayodeji,O., Okogbenin,S., Okokhere,P.O., Folarin,O.A., Komolafe,I., Ihekweazu,C., Frost,S., Jackson,E., Siddle,K.J., Sabeti,P.C., Happi,C.T. & African Centre of Excellence for Genomics of Infectious Diseases(ACEGID), Redeemer's University, Biological Sciences             & Nigeria     & 2023-04-26 & a0423                            & ⋯ &  &  &  &  & AFRICAN CENTRE OF EXCELLENCE FOR GENOMICS OF INFECTIOUS DISEASES(ACEGID), REDEEMER'S UNIVERSITY & SRA1563049  &  & public & BC0F4546D71F48F2F400C9920A4BEC11 & 13C90D00502F73959C6259EF11C27670\\\\\n",
       "\t SRR10017689 & OK573099 & Monkeypox virus                                 & GenBank & NA                                           & Shashan,N., Makarenko,J., Tallon,L., Sadzewicz,L., Vavikolanu,K., Mehta,A., Aluvathingal,J., Nadendla,S., Myers,T., Yan,Y., Sichtig,H.                                                                                                                                                                                                                                                                                                                                     & US Food and Drug Administration, Center for Devices and Radiological Health                                                      & USA         & 2022-07-30 & USA-2003                         & ⋯ &  &  &  &  & UMIGS                                                                                           & SRA949279   &  & public & 90F340D6BEA15ABF368A03E71DD4C8ED & 0BAFA24639735CE55EB4CC866E1201D3\\\\\n",
       "\t SRR32579463 & PV242746 & Influenza A virus                               & GenBank & GCA\\_048516235.1                              & Paull,J., Messer,K., Adams,G., Nabatanzi,D., Dobbins,S., Tomkins-Tinch,C., Mboowa,G., Luebbert,L., Worby,C., Wewior,N., Samani,P., DeRuff,K., Blumenstiel,B., Moreno,G., Earl,A., Gnirke,A., MacInnis,B., Sabeti,P., Lemieux,J., Park,D.                                                                                                                                                                                                                                   & Broad Institute of MIT and Harvard, Infectious Disease and Microbiome Program                                                    & USA         & 2025-03-07 & MA-Broad\\_MGH-23111               & ⋯ &  &  &  &  & BROAD\\_GCID                                                                                      & SRA2088832  &  & public & 14E35036BE7E180EE4E204BB2F71E58D & CBE14ECC81D0F6637CE9BAAA3AC094AA\\\\\n",
       "\t DRR641191   & LC876663 & Monkeypox virus                                 & GenBank & NA                                           & NA                                                                                                                                                                                                                                                                                                                                                                                                                                                                         & Shinjuku, Tokyo 162-8640                                                                                                         & Japan       & 2025-05-23 & hMpoxV/Japan/MX23-023-01/2023    & ⋯ &  &  &  &  & REPOSITORY OF DATA AND BIOSPECIMEN OF INFECTIOUS D                                              & DRA020242   &  & public & 1039C3B64C6F066EC811DC36BB657FB0 & 2EF0FC54373D5CB82FEC9E5743991B78\\\\\n",
       "\t SRR10017654 & OK573218 & Orthonairovirus haemorrhagiae                   & GenBank & NA                                           & Tallon,L., Sadzewicz,L., Vavikolanu,K., Mehta,A., Aluvathingal,J., Nadendla,S., Myers,T., Yan,Y., Sichtig,H.                                                                                                                                                                                                                                                                                                                                                               & US Food and Drug Administration, Center for Devices and Radiological Health                                                      & USA         & 2022-07-30 & IbAr10200                        & ⋯ &  &  &  &  & UMIGS                                                                                           & SRA949279   &  & public & AB01F64AE1C71AE2A7EE69488F184328 & AB8E4D332ED9F7F7BD482017E449F78B\\\\\n",
       "\t SRR26661245 & OR766785 & Monkeypox virus                                 & GenBank & NA                                           & Sereewit,J., Nunley,E.B., Xie,H., Roychoudhury,P., Greninger,A.L.                                                                                                                                                                                                                                                                                                                                                                                                          & University of Washington Dept. Laboratory Medicine and Pathology, Virology Division                                              & USA         & 2023-11-13 & MpxV/human/USA/WA-UW-101148/2023 & ⋯ &  &  &  &  & ALEX                                                                                            & SRA1744540  &  & public & D3716744C16EDA95987566499C2D64ED & 7C9A86EED7FBE5DBBCBD04E2189C0077\\\\\n",
       "\t SRR21524979 & OP442947 & Monkeypox virus                                 & GenBank & NA                                           & Sereewit,J., Xie,H., Roychoudhury,P., Greninger,A.L.                                                                                                                                                                                                                                                                                                                                                                                                                       & UW Virology, Laboratory Medicine                                                                                                 & USA         & 2022-09-15 & MpxV/human/USA/WA-UW-088793/2022 & ⋯ &  &  &  &  & ALEX                                                                                            & SRA1494719  &  & public & C337A35F56877F51C5A112891BE1A203 & 0307FAB1B25554F6BB6998C7E3055B7F\\\\\n",
       "\t SRR33051146 & PV480154 & Influenza A virus                               & GenBank & GCA\\_049540095.1                              & Paull,J., Messer,K., Adams,G., Nabatanzi,D., Dobbins,S., Tomkins-Tinch,C., Mboowa,G., Luebbert,L., Worby,C., Wewior,N., Samani,P., DeRuff,K., Blumenstiel,B., Moreno,G., Earl,A., Gnirke,A., MacInnis,B., Sabeti,P., Lemieux,J., Park,D.                                                                                                                                                                                                                                   & Broad Institute of MIT and Harvard, Infectious Disease and Microbiome Program                                                    & USA         & 2025-04-11 & MA-Broad\\_MGH-23688               & ⋯ &  &  &  &  & BROAD\\_GCID                                                                                      & SRA2109197  &  & public & FDE62BAEE70CDB5F65DF1DB048AE394F & 103A2DDA9BFBB29C9979D38C36B8FB8C\\\\\n",
       "\t SRR21837776 & OP603007 & Monkeypox virus                                 & GenBank & NA                                           & Gigante,C.M., Xia,D., Zhao,H., Batra,D., Hetrick,E.E., Howard,D.T., Kovar,L., Seabolt,M.H., Weigand,M.R., Burroughs,M., Lee,J., Wilkins,K., McCollum,A., Hutson,C., Davidson,W., Rao,A., Plipat,N., Li,Y.                                                                                                                                                                                                                                                                  & CDC, DHCPP-PRB                                                                                                                   & USA         & 2022-10-10 & MPXV\\_USA\\_2022\\_PA0007             & ⋯ &  &  &  &  & CDC-DHCPP-PRB                                                                                   & SRA1515785  &  & public & 7E8B877A3F6A7124DFFB33F8760065B6 & 419C45BAE7E037F4B3E44E510F833058\\\\\n",
       "\t ERR8664992  & OV520362 & Severe acute respiratory syndrome coronavirus 2 & GenBank & NA                                           & NA                                                                                                                                                                                                                                                                                                                                                                                                                                                                         & SIB, Ch. des Mines 9                                                                                                             & Switzerland & 2022-01-17 & AI-CLM-01054488                  & ⋯ &  &  &  &  & CENTER FOR LABORATORY MEDICINE ST. GALLEN                                                       & ERA9144680  &  & public & 3E533A6D0CE841779F2DE320954D4157 & 5272CA5861BC58F4FCD53153B50BFEE2\\\\\n",
       "\t ERR13161266 & OZ065334 & Severe acute respiratory syndrome coronavirus 2 & GenBank & NA                                           & Poklepovich Caride J,T., Lorenzo,F.                                                                                                                                                                                                                                                                                                                                                                                                                                        & ANLIS Malbran, Avenida Velez Sarsfield 563, CABA                                                                                 & Argentina   & 2024-05-31 & INEI111361                       & ⋯ &  &  &  &  & ANLIS MALBRAN                                                                                   & ERA30464054 &  & public & 8B3F7F57E5A4624ECA8117BB7F72D7E2 & DC6387D1A342BEC301367E097C07DE0F\\\\\n",
       "\t SRR23322644 & OQ427115 & Monkeypox virus                                 & GenBank & NA                                           & Gigante,C., Ruiz,V., Zhao,H., Batra,D., Hetrick,E., Howard,D., Kovar,L., Seabolt,M., Morrison,S., Desch,M., Knipe,K., Weigand,M., Sheth,M., Burgin,A., Burroughs,M., Lee,J., Wilkins,K., McCollum,A., Hutson,C., Davidson,W., Rao,A., Wang,J., Li,Y.                                                                                                                                                                                                                       & CDC, DHCPP-PRB                                                                                                                   & USA         & 2023-02-18 & MPXV\\_USA\\_2022\\_NY0040             & ⋯ &  &  &  &  & CDC-DHCPP-PRB                                                                                   & SRA1584081  &  & public & 9CC149ED2546734727CC8D9DCFDC1B99 & E71364CB0323F6FEE1481BE121B93537\\\\\n",
       "\t SRR10017190 & OK573271 & West Nile virus                                 & GenBank & NA                                           & Rios,M., Fares-Gusmao,R., Volkova,E., Grinev,A., Assis,F., Chancey,C., Ok,S., Rocha,B., Sippert,E., Tallon,L., Sadzewicz,L., Vavikolanu,K., Mehta,A., Aluvathingal,J., Nadendla,S., Yan,Y., Sichtig,H.                                                                                                                                                                                                                                                                     & US Food and Drug Administration, Center for Devices and Radiological Health                                                      & USA         & 2022-07-30 & BSL107-12                        & ⋯ &  &  &  &  & UMIGS                                                                                           & SRA949279   &  & public & 4DF6A89233E5052276A4EED9289814AC & 7EF4289A33DD4CBAFD5B558249F8ADB1\\\\\n",
       "\t SRR31821236 & PQ832923 & Influenza A virus                               & GenBank & GCA\\_046514125.1                              & Aufderhar,M., Franzen,K., Killian,M., Lantz,K., Stuber,T., Hicks,J., Norris,C., Lakin,S.                                                                                                                                                                                                                                                                                                                                                                                   & USDA Animal Plant Health Inspection Service-National Veterinary Services Laboratories, National Veterinary Services Laboratories & USA         & 2025-01-03 & 24-037225-022-original           & ⋯ &  &  &  &  & USDA-NVSL                                                                                       & SRA2040783  &  & public & 3A6854373660BB64A3B5640D40EB81AA & 0E9744994EEE70EED422EAC6079121FE\\\\\n",
       "\t SRR28752531 & PP753176 & Influenza A virus                               & GenBank & GCA\\_039464395.1                              & Nguyen,T., Hutter,C., Markin,A., Thomas,M., Lantz,K., Killian,M.L., Janzen,G.M., Vijendran,S., Wagle,S., Inderski,B., Magstadt,D.R., Li,G., Diel,D.G., Frye,E.A., Dimitrov,K.M., Swinford,A.K., Thompson,A.C., Snevik,K.R., Suarez,D.L., Spackman,E., Lakin,S.M., C,S., Johnson,K.R., Baker,A.L., Robbe-Austerman,S., Torchetti,M.K., Anderson,T.K., Anderson,T.                                                                                                           & National Animal Disease Center, USDA-ARS                                                                                         & USA         & 2024-05-03 & NA                               & ⋯ &  &  &  &  & USDA-NVSL                                                                                       & SRA1849807  &  & public & 6163C8D946004E8AA4919790BE02DF90 & 2EAAB691F5CAE5F22E4B143304796945\\\\\n",
       "\t SRR22708627 & OQ054220 & Monkeypox virus                                 & GenBank & NA                                           & Gigante,C., Hottel,W., Zhao,H., Batra,D., Hetrick,E., Howard,D., Kovar,L., Seabolt,M., Morrison,S., Desch,M., Knipe,K., Weigand,M., Sheth,M., Burgin,A., Burroughs,M., Lee,J., Wilkins,K., McCollum,A., Hutson,C., Davidson,W., Rao,A., Nelson,M., Li,Y.                                                                                                                                                                                                                   & CDC, DHCPP-PRB                                                                                                                   & USA         & 2022-12-15 & MPXV\\_USA\\_2022\\_IA0001             & ⋯ &  &  &  &  & CDC-DHCPP-PRB                                                                                   & SRA1558291  &  & public & 8A04678FAB83089DDB0CDC29831DC2BB & 94C35CF2D5AB102DD614CD8DE64DDB24\\\\\n",
       "\t SRR22580782 & OP890322 & Human respiratory syncytial virus A             & GenBank & NA                                           & Goya,S., Sereewit,J., Pfalmer,D., Nguyen,T., Bakhash,S.A.K.M., Sobolik,E.B., Greninger,A.L.                                                                                                                                                                                                                                                                                                                                                                                & UW Virology, Laboratory Medicine                                                                                                 & USA         & 2022-12-04 & hRSV/A/USA/2022DT79D/2022        & ⋯ &  &  &  &  & ALEX                                                                                            & SRA1556179  &  & public & 27729F0975D6E9111B3A61505A84B884 & 92965CD8811D79DEF3B42AC12CD1D12A\\\\\n",
       "\t ERR10297626 & OX344867 & Monkeypox virus                                 & GenBank & NA                                           & Cuesta,I.                                                                                                                                                                                                                                                                                                                                                                                                                                                                  & Institute of Health Carlos III, Bioinformatics Unit, Carretera Majadahonda-Pozuelo km2                                           & Spain       & 2022-10-06 & MPXV\\_419\\_SP\\_2022                 & ⋯ &  &  &  &  & INSTITUTE OF HEALTH CARLOS III                                                                  & ERA18504704 &  & public & 90BC2642B7191C43CF9771F5407692E4 & E13BABF3CFB999F20A12E81FC74D55B1\\\\\n",
       "\t SRR32006872 & PV162097 & Influenza A virus                               & GenBank & GCA\\_047942235.1                              & Aufderhar,M., Franzen,K., Killian,M.L., Lantz,K., Stuber,T., Hicks,J., Norris,C., Lakin,S.                                                                                                                                                                                                                                                                                                                                                                                 & USDA Animal Plant Health Inspection Service-National Veterinary Services Laboratories, National Veterinary Services Laboratories & USA         & 2025-02-21 & 25-000082-002-original           & ⋯ &  &  &  &  & USDA-NVSL                                                                                       & SRA2051688  &  & public & ABC96DFE798DF1D1CBFA799638210056 & 104846420EACB2F211E0E643B46D8E19\\\\\n",
       "\t SRR3209113  & KU978807 & Lassa mammarenavirus                            & GenBank & set:0ab29a8fe04dfd754a53d597d61d2073fce7b1c7 & Rossi,S.L., Guerbois,M., Forrester,N.L., Ksiazek,T., Lin,D., Hari,K., Weaver,S.C.                                                                                                                                                                                                                                                                                                                                                                                          & University of Texas Medical Branch, Microbiology and Immunology                                                                  & USA         & 2017-03-25 & Guinea Faranah                   & ⋯ &  &  &  &  & CBIO INC                                                                                        & SRA379491   &  & public & 9B105070592B10487CA54ACF6679964B & 27C68DCCED7D7FE2D18DD2CEAC0CEAFE\\\\\n",
       "\\end{tabular}\n"
      ],
      "text/markdown": [
       "\n",
       "A data.frame: 30 × 78\n",
       "\n",
       "| SRA_Accession &lt;chr&gt; | Accession &lt;chr&gt; | Organism_Name &lt;chr&gt; | GenBank_RefSeq &lt;chr&gt; | Assembly &lt;chr&gt; | Submitters &lt;chr&gt; | Organization &lt;chr&gt; | Org_location &lt;chr&gt; | Release_Date &lt;chr&gt; | Isolate &lt;chr&gt; | ⋯ ⋯ | Affection_Status &lt;chr&gt; | Analyte_Type &lt;chr&gt; | Histological_Type &lt;chr&gt; | Body_Site &lt;chr&gt; | CenterName &lt;chr&gt; | Submission &lt;chr&gt; | dbgap_study_accession &lt;chr&gt; | Consent &lt;chr&gt; | RunHash &lt;chr&gt; | ReadHash &lt;chr&gt; |\n",
       "|---|---|---|---|---|---|---|---|---|---|---|---|---|---|---|---|---|---|---|---|---|\n",
       "| SRR21887137 | OP628469 | Monkeypox virus                                 | GenBank | NA                                           | Sereewit,J., Xie,H., Roychoudhury,P., Greninger,A.L.                                                                                                                                                                                                                                                                                                                                                                                                                       | UW Virology, Laboratory Medicine                                                                                                 | USA         | 2022-10-13 | MpxV/human/USA/WA-UW-086630/2022 | ⋯ | <!----> | <!----> | <!----> | <!----> | ALEX                                                                                            | SRA1519228  | <!----> | public | 35039B00755AADF4210C1992F98DBDFE | 6C49ED2E18AFD25BE3B76C4A94BD244F |\n",
       "| SRR10045993 | OK573205 | Lassa mammarenavirus                            | GenBank | NA                                           | Tallon,L., Sadzewicz,L., Vavikolanu,K., Mehta,A., Aluvathingal,J., Nadendla,S., Myers,T., Yan,Y., Sichtig,H.                                                                                                                                                                                                                                                                                                                                                               | US Food and Drug Administration, Center for Devices and Radiological Health                                                      | USA         | 2022-07-30 | Josiah                           | ⋯ | <!----> | <!----> | <!----> | <!----> | UMIGS                                                                                           | SRA949279   | <!----> | public | 48706EF4B0AAE225EE572EAADA423F0B | 38260E1B171E9A752F5C5603CCAAAD0E |\n",
       "| DRR641190   | LC876662 | Monkeypox virus                                 | GenBank | NA                                           | NA                                                                                                                                                                                                                                                                                                                                                                                                                                                                         | Shinjuku, Tokyo 162-8640                                                                                                         | Japan       | 2025-05-23 | hMpoxV/Japan/MX23-022-02/2023    | ⋯ | <!----> | <!----> | <!----> | <!----> | REPOSITORY OF DATA AND BIOSPECIMEN OF INFECTIOUS D                                              | DRA020242   | <!----> | public | C698661B7E80095225E789CDDC09DE5B | 8C1C34F2ECE5F74442A7324854E18135 |\n",
       "| SRR10027401 | OK573121 | Monkeypox virus                                 | GenBank | NA                                           | Hunt,S., Shashan,N., Tallon,L., Sadzewicz,L., Vavikolanu,K., Mehta,A., Aluvathingal,J., Nadendla,S., Myers,T., Yan,Y., Sichtig,H.                                                                                                                                                                                                                                                                                                                                          | US Food and Drug Administration, Center for Devices and Radiological Health                                                      | USA         | 2022-07-30 | WRAIR 7-61                       | ⋯ | <!----> | <!----> | <!----> | <!----> | UMIGS                                                                                           | SRA949279   | <!----> | public | 863F0C2D4D63D5AB3DEF3597D27BD0ED | B617A70B9DE827EF15ACEA93EBD19168 |\n",
       "| SRR21524972 | OP392547 | Monkeypox virus                                 | GenBank | NA                                           | Sereewit,J., Xie,H., Roychoudhury,P., Greninger,A.L.                                                                                                                                                                                                                                                                                                                                                                                                                       | UW Virology, Laboratory Medicine                                                                                                 | NA          | 2022-09-08 | MpxV/human/USA/WA-UW-085462/2022 | ⋯ | <!----> | <!----> | <!----> | <!----> | ALEX                                                                                            | SRA1494719  | <!----> | public | 24EDEE1FB2E6EB1F62AC6BDF0BF4339D | 357E99C832B8DCF8D07200A9FC88A03B |\n",
       "| SRR21684326 | OP378699 | Monkeypox virus                                 | GenBank | NA                                           | Gigante,C.M., Pavlick,J., Zhao,H., Batra,D., Hetrick,E.E., Howard,D.T., Kovar,L., Seabolt,M.H., Weigand,M.R., Burroughs,M., Lee,J., Wilkins,K., McCollum,A., Hutson,C., Davidson,W., Rao,A., Parrott,T., Li,Y.                                                                                                                                                                                                                                                             | CDC, DHCPP-PRB                                                                                                                   | USA         | 2022-09-06 | MPXV_USA_2022_GA0013             | ⋯ | <!----> | <!----> | <!----> | <!----> | CDC-DHCPP-PRB                                                                                   | SRA1504797  | <!----> | public | E6637DC54FFA14AEAC1341ECD9F5B88C | E5005AA099BF221161F1B11C9FD7A5F6 |\n",
       "| SRR21714303 | OP185715 | Monkeypox virus                                 | GenBank | NA                                           | Gigante,C.M., Steidley,B., Seabolt,M.H., Zhao,H., Wilkins,K., McCollum,A., Hutson,C., Davidson,W., Rao,A., Davizon,E.S., Li,Y.                                                                                                                                                                                                                                                                                                                                             | CDC, DHCPP-PRB                                                                                                                   | USA         | 2022-08-10 | MPXV_USA_2022_CO0002             | ⋯ | <!----> | <!----> | <!----> | <!----> | CDC-DHCPP-PRB                                                                                   | SRA1507542  | <!----> | public | 66A29AD97DCA92BA6442B46E4AB1EEEC | 1397041F89C61B1901C7E834ACA4AAE4 |\n",
       "| ERR8526503  | OV282807 | Severe acute respiratory syndrome coronavirus 2 | GenBank | NA                                           | NA                                                                                                                                                                                                                                                                                                                                                                                                                                                                         | SIB, Ch. des Mines 9                                                                                                             | Switzerland | 2021-12-18 | VD-CHUV-GEN8857                  | ⋯ | <!----> | <!----> | <!----> | <!----> | LABORATORY OF GENOMICS AND METAGENOMICS, INSTITUTE                                              | ERA9013651  | <!----> | public | FB87549C872AD2AE9391839BBFDF2A49 | 99FFAC0B0307AB96992B152B80CE6CD9 |\n",
       "| SRR23580685 | OQ503757 | Monkeypox virus                                 | GenBank | NA                                           | Sereewit,J., Xie,H., Roychoudhury,P., Greninger,A.L.                                                                                                                                                                                                                                                                                                                                                                                                                       | UW Virology, Laboratory Medicine                                                                                                 | USA         | 2023-02-28 | MpxV/human/USA/WA-UW-086924/2022 | ⋯ | <!----> | <!----> | <!----> | <!----> | ALEX                                                                                            | SRA1593903  | <!----> | public | D422D5BF76A63726DF4FE6FE7CEFC583 | 1CD8387AB23EA269FFC64693D5348E56 |\n",
       "| SRR32006916 | PV159921 | Influenza A virus                               | GenBank | GCA_047941905.1                              | Aufderhar,M., Franzen,K., Killian,M.L., Lantz,K., Stuber,T., Hicks,J., Norris,C., Lakin,S.                                                                                                                                                                                                                                                                                                                                                                                 | USDA Animal Plant Health Inspection Service-National Veterinary Services Laboratories, National Veterinary Services Laboratories | USA         | 2025-02-21 | 24-038978-002-original           | ⋯ | <!----> | <!----> | <!----> | <!----> | USDA-NVSL                                                                                       | SRA2051688  | <!----> | public | AFF00681CB967F3824CB8BC6B5C5A75F | 9BF118F293C7D0A49A28DC2983964416 |\n",
       "| SRR22831221 | OQ791485 | Lassa mammarenavirus                            | GenBank | NA                                           | Oguzie,J.U., Petros,B.A., Oluniyi,P.E., Mehta,S.B., Eromon,P.E., Adewale-Fasoro,O., Ifoga,P.D., Odia,I., Pastusiak,A., Gbemisola,O.S., Aiyepada,J.O., Uyigue,E.A., Edamhande,A.P., Blessing,O., Airende,M., Nair,P., Tomkins-Tinch,C., Qu,J., Stenson,L., Oyejide,N., Ajayi,N.A., Ojide,K., Ogah,O., Abejegah,C., Adedosu,N., Ayodeji,O., Okogbenin,S., Okokhere,P.O., Folarin,O.A., Komolafe,I., Ihekweazu,C., Frost,S., Jackson,E., Siddle,K.J., Sabeti,P.C., Happi,C.T. | African Centre of Excellence for Genomics of Infectious Diseases(ACEGID), Redeemer's University, Biological Sciences             | Nigeria     | 2023-04-26 | a0423                            | ⋯ | <!----> | <!----> | <!----> | <!----> | AFRICAN CENTRE OF EXCELLENCE FOR GENOMICS OF INFECTIOUS DISEASES(ACEGID), REDEEMER'S UNIVERSITY | SRA1563049  | <!----> | public | BC0F4546D71F48F2F400C9920A4BEC11 | 13C90D00502F73959C6259EF11C27670 |\n",
       "| SRR10017689 | OK573099 | Monkeypox virus                                 | GenBank | NA                                           | Shashan,N., Makarenko,J., Tallon,L., Sadzewicz,L., Vavikolanu,K., Mehta,A., Aluvathingal,J., Nadendla,S., Myers,T., Yan,Y., Sichtig,H.                                                                                                                                                                                                                                                                                                                                     | US Food and Drug Administration, Center for Devices and Radiological Health                                                      | USA         | 2022-07-30 | USA-2003                         | ⋯ | <!----> | <!----> | <!----> | <!----> | UMIGS                                                                                           | SRA949279   | <!----> | public | 90F340D6BEA15ABF368A03E71DD4C8ED | 0BAFA24639735CE55EB4CC866E1201D3 |\n",
       "| SRR32579463 | PV242746 | Influenza A virus                               | GenBank | GCA_048516235.1                              | Paull,J., Messer,K., Adams,G., Nabatanzi,D., Dobbins,S., Tomkins-Tinch,C., Mboowa,G., Luebbert,L., Worby,C., Wewior,N., Samani,P., DeRuff,K., Blumenstiel,B., Moreno,G., Earl,A., Gnirke,A., MacInnis,B., Sabeti,P., Lemieux,J., Park,D.                                                                                                                                                                                                                                   | Broad Institute of MIT and Harvard, Infectious Disease and Microbiome Program                                                    | USA         | 2025-03-07 | MA-Broad_MGH-23111               | ⋯ | <!----> | <!----> | <!----> | <!----> | BROAD_GCID                                                                                      | SRA2088832  | <!----> | public | 14E35036BE7E180EE4E204BB2F71E58D | CBE14ECC81D0F6637CE9BAAA3AC094AA |\n",
       "| DRR641191   | LC876663 | Monkeypox virus                                 | GenBank | NA                                           | NA                                                                                                                                                                                                                                                                                                                                                                                                                                                                         | Shinjuku, Tokyo 162-8640                                                                                                         | Japan       | 2025-05-23 | hMpoxV/Japan/MX23-023-01/2023    | ⋯ | <!----> | <!----> | <!----> | <!----> | REPOSITORY OF DATA AND BIOSPECIMEN OF INFECTIOUS D                                              | DRA020242   | <!----> | public | 1039C3B64C6F066EC811DC36BB657FB0 | 2EF0FC54373D5CB82FEC9E5743991B78 |\n",
       "| SRR10017654 | OK573218 | Orthonairovirus haemorrhagiae                   | GenBank | NA                                           | Tallon,L., Sadzewicz,L., Vavikolanu,K., Mehta,A., Aluvathingal,J., Nadendla,S., Myers,T., Yan,Y., Sichtig,H.                                                                                                                                                                                                                                                                                                                                                               | US Food and Drug Administration, Center for Devices and Radiological Health                                                      | USA         | 2022-07-30 | IbAr10200                        | ⋯ | <!----> | <!----> | <!----> | <!----> | UMIGS                                                                                           | SRA949279   | <!----> | public | AB01F64AE1C71AE2A7EE69488F184328 | AB8E4D332ED9F7F7BD482017E449F78B |\n",
       "| SRR26661245 | OR766785 | Monkeypox virus                                 | GenBank | NA                                           | Sereewit,J., Nunley,E.B., Xie,H., Roychoudhury,P., Greninger,A.L.                                                                                                                                                                                                                                                                                                                                                                                                          | University of Washington Dept. Laboratory Medicine and Pathology, Virology Division                                              | USA         | 2023-11-13 | MpxV/human/USA/WA-UW-101148/2023 | ⋯ | <!----> | <!----> | <!----> | <!----> | ALEX                                                                                            | SRA1744540  | <!----> | public | D3716744C16EDA95987566499C2D64ED | 7C9A86EED7FBE5DBBCBD04E2189C0077 |\n",
       "| SRR21524979 | OP442947 | Monkeypox virus                                 | GenBank | NA                                           | Sereewit,J., Xie,H., Roychoudhury,P., Greninger,A.L.                                                                                                                                                                                                                                                                                                                                                                                                                       | UW Virology, Laboratory Medicine                                                                                                 | USA         | 2022-09-15 | MpxV/human/USA/WA-UW-088793/2022 | ⋯ | <!----> | <!----> | <!----> | <!----> | ALEX                                                                                            | SRA1494719  | <!----> | public | C337A35F56877F51C5A112891BE1A203 | 0307FAB1B25554F6BB6998C7E3055B7F |\n",
       "| SRR33051146 | PV480154 | Influenza A virus                               | GenBank | GCA_049540095.1                              | Paull,J., Messer,K., Adams,G., Nabatanzi,D., Dobbins,S., Tomkins-Tinch,C., Mboowa,G., Luebbert,L., Worby,C., Wewior,N., Samani,P., DeRuff,K., Blumenstiel,B., Moreno,G., Earl,A., Gnirke,A., MacInnis,B., Sabeti,P., Lemieux,J., Park,D.                                                                                                                                                                                                                                   | Broad Institute of MIT and Harvard, Infectious Disease and Microbiome Program                                                    | USA         | 2025-04-11 | MA-Broad_MGH-23688               | ⋯ | <!----> | <!----> | <!----> | <!----> | BROAD_GCID                                                                                      | SRA2109197  | <!----> | public | FDE62BAEE70CDB5F65DF1DB048AE394F | 103A2DDA9BFBB29C9979D38C36B8FB8C |\n",
       "| SRR21837776 | OP603007 | Monkeypox virus                                 | GenBank | NA                                           | Gigante,C.M., Xia,D., Zhao,H., Batra,D., Hetrick,E.E., Howard,D.T., Kovar,L., Seabolt,M.H., Weigand,M.R., Burroughs,M., Lee,J., Wilkins,K., McCollum,A., Hutson,C., Davidson,W., Rao,A., Plipat,N., Li,Y.                                                                                                                                                                                                                                                                  | CDC, DHCPP-PRB                                                                                                                   | USA         | 2022-10-10 | MPXV_USA_2022_PA0007             | ⋯ | <!----> | <!----> | <!----> | <!----> | CDC-DHCPP-PRB                                                                                   | SRA1515785  | <!----> | public | 7E8B877A3F6A7124DFFB33F8760065B6 | 419C45BAE7E037F4B3E44E510F833058 |\n",
       "| ERR8664992  | OV520362 | Severe acute respiratory syndrome coronavirus 2 | GenBank | NA                                           | NA                                                                                                                                                                                                                                                                                                                                                                                                                                                                         | SIB, Ch. des Mines 9                                                                                                             | Switzerland | 2022-01-17 | AI-CLM-01054488                  | ⋯ | <!----> | <!----> | <!----> | <!----> | CENTER FOR LABORATORY MEDICINE ST. GALLEN                                                       | ERA9144680  | <!----> | public | 3E533A6D0CE841779F2DE320954D4157 | 5272CA5861BC58F4FCD53153B50BFEE2 |\n",
       "| ERR13161266 | OZ065334 | Severe acute respiratory syndrome coronavirus 2 | GenBank | NA                                           | Poklepovich Caride J,T., Lorenzo,F.                                                                                                                                                                                                                                                                                                                                                                                                                                        | ANLIS Malbran, Avenida Velez Sarsfield 563, CABA                                                                                 | Argentina   | 2024-05-31 | INEI111361                       | ⋯ | <!----> | <!----> | <!----> | <!----> | ANLIS MALBRAN                                                                                   | ERA30464054 | <!----> | public | 8B3F7F57E5A4624ECA8117BB7F72D7E2 | DC6387D1A342BEC301367E097C07DE0F |\n",
       "| SRR23322644 | OQ427115 | Monkeypox virus                                 | GenBank | NA                                           | Gigante,C., Ruiz,V., Zhao,H., Batra,D., Hetrick,E., Howard,D., Kovar,L., Seabolt,M., Morrison,S., Desch,M., Knipe,K., Weigand,M., Sheth,M., Burgin,A., Burroughs,M., Lee,J., Wilkins,K., McCollum,A., Hutson,C., Davidson,W., Rao,A., Wang,J., Li,Y.                                                                                                                                                                                                                       | CDC, DHCPP-PRB                                                                                                                   | USA         | 2023-02-18 | MPXV_USA_2022_NY0040             | ⋯ | <!----> | <!----> | <!----> | <!----> | CDC-DHCPP-PRB                                                                                   | SRA1584081  | <!----> | public | 9CC149ED2546734727CC8D9DCFDC1B99 | E71364CB0323F6FEE1481BE121B93537 |\n",
       "| SRR10017190 | OK573271 | West Nile virus                                 | GenBank | NA                                           | Rios,M., Fares-Gusmao,R., Volkova,E., Grinev,A., Assis,F., Chancey,C., Ok,S., Rocha,B., Sippert,E., Tallon,L., Sadzewicz,L., Vavikolanu,K., Mehta,A., Aluvathingal,J., Nadendla,S., Yan,Y., Sichtig,H.                                                                                                                                                                                                                                                                     | US Food and Drug Administration, Center for Devices and Radiological Health                                                      | USA         | 2022-07-30 | BSL107-12                        | ⋯ | <!----> | <!----> | <!----> | <!----> | UMIGS                                                                                           | SRA949279   | <!----> | public | 4DF6A89233E5052276A4EED9289814AC | 7EF4289A33DD4CBAFD5B558249F8ADB1 |\n",
       "| SRR31821236 | PQ832923 | Influenza A virus                               | GenBank | GCA_046514125.1                              | Aufderhar,M., Franzen,K., Killian,M., Lantz,K., Stuber,T., Hicks,J., Norris,C., Lakin,S.                                                                                                                                                                                                                                                                                                                                                                                   | USDA Animal Plant Health Inspection Service-National Veterinary Services Laboratories, National Veterinary Services Laboratories | USA         | 2025-01-03 | 24-037225-022-original           | ⋯ | <!----> | <!----> | <!----> | <!----> | USDA-NVSL                                                                                       | SRA2040783  | <!----> | public | 3A6854373660BB64A3B5640D40EB81AA | 0E9744994EEE70EED422EAC6079121FE |\n",
       "| SRR28752531 | PP753176 | Influenza A virus                               | GenBank | GCA_039464395.1                              | Nguyen,T., Hutter,C., Markin,A., Thomas,M., Lantz,K., Killian,M.L., Janzen,G.M., Vijendran,S., Wagle,S., Inderski,B., Magstadt,D.R., Li,G., Diel,D.G., Frye,E.A., Dimitrov,K.M., Swinford,A.K., Thompson,A.C., Snevik,K.R., Suarez,D.L., Spackman,E., Lakin,S.M., C,S., Johnson,K.R., Baker,A.L., Robbe-Austerman,S., Torchetti,M.K., Anderson,T.K., Anderson,T.                                                                                                           | National Animal Disease Center, USDA-ARS                                                                                         | USA         | 2024-05-03 | NA                               | ⋯ | <!----> | <!----> | <!----> | <!----> | USDA-NVSL                                                                                       | SRA1849807  | <!----> | public | 6163C8D946004E8AA4919790BE02DF90 | 2EAAB691F5CAE5F22E4B143304796945 |\n",
       "| SRR22708627 | OQ054220 | Monkeypox virus                                 | GenBank | NA                                           | Gigante,C., Hottel,W., Zhao,H., Batra,D., Hetrick,E., Howard,D., Kovar,L., Seabolt,M., Morrison,S., Desch,M., Knipe,K., Weigand,M., Sheth,M., Burgin,A., Burroughs,M., Lee,J., Wilkins,K., McCollum,A., Hutson,C., Davidson,W., Rao,A., Nelson,M., Li,Y.                                                                                                                                                                                                                   | CDC, DHCPP-PRB                                                                                                                   | USA         | 2022-12-15 | MPXV_USA_2022_IA0001             | ⋯ | <!----> | <!----> | <!----> | <!----> | CDC-DHCPP-PRB                                                                                   | SRA1558291  | <!----> | public | 8A04678FAB83089DDB0CDC29831DC2BB | 94C35CF2D5AB102DD614CD8DE64DDB24 |\n",
       "| SRR22580782 | OP890322 | Human respiratory syncytial virus A             | GenBank | NA                                           | Goya,S., Sereewit,J., Pfalmer,D., Nguyen,T., Bakhash,S.A.K.M., Sobolik,E.B., Greninger,A.L.                                                                                                                                                                                                                                                                                                                                                                                | UW Virology, Laboratory Medicine                                                                                                 | USA         | 2022-12-04 | hRSV/A/USA/2022DT79D/2022        | ⋯ | <!----> | <!----> | <!----> | <!----> | ALEX                                                                                            | SRA1556179  | <!----> | public | 27729F0975D6E9111B3A61505A84B884 | 92965CD8811D79DEF3B42AC12CD1D12A |\n",
       "| ERR10297626 | OX344867 | Monkeypox virus                                 | GenBank | NA                                           | Cuesta,I.                                                                                                                                                                                                                                                                                                                                                                                                                                                                  | Institute of Health Carlos III, Bioinformatics Unit, Carretera Majadahonda-Pozuelo km2                                           | Spain       | 2022-10-06 | MPXV_419_SP_2022                 | ⋯ | <!----> | <!----> | <!----> | <!----> | INSTITUTE OF HEALTH CARLOS III                                                                  | ERA18504704 | <!----> | public | 90BC2642B7191C43CF9771F5407692E4 | E13BABF3CFB999F20A12E81FC74D55B1 |\n",
       "| SRR32006872 | PV162097 | Influenza A virus                               | GenBank | GCA_047942235.1                              | Aufderhar,M., Franzen,K., Killian,M.L., Lantz,K., Stuber,T., Hicks,J., Norris,C., Lakin,S.                                                                                                                                                                                                                                                                                                                                                                                 | USDA Animal Plant Health Inspection Service-National Veterinary Services Laboratories, National Veterinary Services Laboratories | USA         | 2025-02-21 | 25-000082-002-original           | ⋯ | <!----> | <!----> | <!----> | <!----> | USDA-NVSL                                                                                       | SRA2051688  | <!----> | public | ABC96DFE798DF1D1CBFA799638210056 | 104846420EACB2F211E0E643B46D8E19 |\n",
       "| SRR3209113  | KU978807 | Lassa mammarenavirus                            | GenBank | set:0ab29a8fe04dfd754a53d597d61d2073fce7b1c7 | Rossi,S.L., Guerbois,M., Forrester,N.L., Ksiazek,T., Lin,D., Hari,K., Weaver,S.C.                                                                                                                                                                                                                                                                                                                                                                                          | University of Texas Medical Branch, Microbiology and Immunology                                                                  | USA         | 2017-03-25 | Guinea Faranah                   | ⋯ | <!----> | <!----> | <!----> | <!----> | CBIO INC                                                                                        | SRA379491   | <!----> | public | 9B105070592B10487CA54ACF6679964B | 27C68DCCED7D7FE2D18DD2CEAC0CEAFE |\n",
       "\n"
      ],
      "text/plain": [
       "   SRA_Accession Accession Organism_Name                                  \n",
       "1  SRR21887137   OP628469  Monkeypox virus                                \n",
       "2  SRR10045993   OK573205  Lassa mammarenavirus                           \n",
       "3  DRR641190     LC876662  Monkeypox virus                                \n",
       "4  SRR10027401   OK573121  Monkeypox virus                                \n",
       "5  SRR21524972   OP392547  Monkeypox virus                                \n",
       "6  SRR21684326   OP378699  Monkeypox virus                                \n",
       "7  SRR21714303   OP185715  Monkeypox virus                                \n",
       "8  ERR8526503    OV282807  Severe acute respiratory syndrome coronavirus 2\n",
       "9  SRR23580685   OQ503757  Monkeypox virus                                \n",
       "10 SRR32006916   PV159921  Influenza A virus                              \n",
       "11 SRR22831221   OQ791485  Lassa mammarenavirus                           \n",
       "12 SRR10017689   OK573099  Monkeypox virus                                \n",
       "13 SRR32579463   PV242746  Influenza A virus                              \n",
       "14 DRR641191     LC876663  Monkeypox virus                                \n",
       "15 SRR10017654   OK573218  Orthonairovirus haemorrhagiae                  \n",
       "16 SRR26661245   OR766785  Monkeypox virus                                \n",
       "17 SRR21524979   OP442947  Monkeypox virus                                \n",
       "18 SRR33051146   PV480154  Influenza A virus                              \n",
       "19 SRR21837776   OP603007  Monkeypox virus                                \n",
       "20 ERR8664992    OV520362  Severe acute respiratory syndrome coronavirus 2\n",
       "21 ERR13161266   OZ065334  Severe acute respiratory syndrome coronavirus 2\n",
       "22 SRR23322644   OQ427115  Monkeypox virus                                \n",
       "23 SRR10017190   OK573271  West Nile virus                                \n",
       "24 SRR31821236   PQ832923  Influenza A virus                              \n",
       "25 SRR28752531   PP753176  Influenza A virus                              \n",
       "26 SRR22708627   OQ054220  Monkeypox virus                                \n",
       "27 SRR22580782   OP890322  Human respiratory syncytial virus A            \n",
       "28 ERR10297626   OX344867  Monkeypox virus                                \n",
       "29 SRR32006872   PV162097  Influenza A virus                              \n",
       "30 SRR3209113    KU978807  Lassa mammarenavirus                           \n",
       "   GenBank_RefSeq Assembly                                    \n",
       "1  GenBank        NA                                          \n",
       "2  GenBank        NA                                          \n",
       "3  GenBank        NA                                          \n",
       "4  GenBank        NA                                          \n",
       "5  GenBank        NA                                          \n",
       "6  GenBank        NA                                          \n",
       "7  GenBank        NA                                          \n",
       "8  GenBank        NA                                          \n",
       "9  GenBank        NA                                          \n",
       "10 GenBank        GCA_047941905.1                             \n",
       "11 GenBank        NA                                          \n",
       "12 GenBank        NA                                          \n",
       "13 GenBank        GCA_048516235.1                             \n",
       "14 GenBank        NA                                          \n",
       "15 GenBank        NA                                          \n",
       "16 GenBank        NA                                          \n",
       "17 GenBank        NA                                          \n",
       "18 GenBank        GCA_049540095.1                             \n",
       "19 GenBank        NA                                          \n",
       "20 GenBank        NA                                          \n",
       "21 GenBank        NA                                          \n",
       "22 GenBank        NA                                          \n",
       "23 GenBank        NA                                          \n",
       "24 GenBank        GCA_046514125.1                             \n",
       "25 GenBank        GCA_039464395.1                             \n",
       "26 GenBank        NA                                          \n",
       "27 GenBank        NA                                          \n",
       "28 GenBank        NA                                          \n",
       "29 GenBank        GCA_047942235.1                             \n",
       "30 GenBank        set:0ab29a8fe04dfd754a53d597d61d2073fce7b1c7\n",
       "   Submitters                                                                                                                                                                                                                                                                                                                                                                                                                                                                \n",
       "1  Sereewit,J., Xie,H., Roychoudhury,P., Greninger,A.L.                                                                                                                                                                                                                                                                                                                                                                                                                      \n",
       "2  Tallon,L., Sadzewicz,L., Vavikolanu,K., Mehta,A., Aluvathingal,J., Nadendla,S., Myers,T., Yan,Y., Sichtig,H.                                                                                                                                                                                                                                                                                                                                                              \n",
       "3  NA                                                                                                                                                                                                                                                                                                                                                                                                                                                                        \n",
       "4  Hunt,S., Shashan,N., Tallon,L., Sadzewicz,L., Vavikolanu,K., Mehta,A., Aluvathingal,J., Nadendla,S., Myers,T., Yan,Y., Sichtig,H.                                                                                                                                                                                                                                                                                                                                         \n",
       "5  Sereewit,J., Xie,H., Roychoudhury,P., Greninger,A.L.                                                                                                                                                                                                                                                                                                                                                                                                                      \n",
       "6  Gigante,C.M., Pavlick,J., Zhao,H., Batra,D., Hetrick,E.E., Howard,D.T., Kovar,L., Seabolt,M.H., Weigand,M.R., Burroughs,M., Lee,J., Wilkins,K., McCollum,A., Hutson,C., Davidson,W., Rao,A., Parrott,T., Li,Y.                                                                                                                                                                                                                                                            \n",
       "7  Gigante,C.M., Steidley,B., Seabolt,M.H., Zhao,H., Wilkins,K., McCollum,A., Hutson,C., Davidson,W., Rao,A., Davizon,E.S., Li,Y.                                                                                                                                                                                                                                                                                                                                            \n",
       "8  NA                                                                                                                                                                                                                                                                                                                                                                                                                                                                        \n",
       "9  Sereewit,J., Xie,H., Roychoudhury,P., Greninger,A.L.                                                                                                                                                                                                                                                                                                                                                                                                                      \n",
       "10 Aufderhar,M., Franzen,K., Killian,M.L., Lantz,K., Stuber,T., Hicks,J., Norris,C., Lakin,S.                                                                                                                                                                                                                                                                                                                                                                                \n",
       "11 Oguzie,J.U., Petros,B.A., Oluniyi,P.E., Mehta,S.B., Eromon,P.E., Adewale-Fasoro,O., Ifoga,P.D., Odia,I., Pastusiak,A., Gbemisola,O.S., Aiyepada,J.O., Uyigue,E.A., Edamhande,A.P., Blessing,O., Airende,M., Nair,P., Tomkins-Tinch,C., Qu,J., Stenson,L., Oyejide,N., Ajayi,N.A., Ojide,K., Ogah,O., Abejegah,C., Adedosu,N., Ayodeji,O., Okogbenin,S., Okokhere,P.O., Folarin,O.A., Komolafe,I., Ihekweazu,C., Frost,S., Jackson,E., Siddle,K.J., Sabeti,P.C., Happi,C.T.\n",
       "12 Shashan,N., Makarenko,J., Tallon,L., Sadzewicz,L., Vavikolanu,K., Mehta,A., Aluvathingal,J., Nadendla,S., Myers,T., Yan,Y., Sichtig,H.                                                                                                                                                                                                                                                                                                                                    \n",
       "13 Paull,J., Messer,K., Adams,G., Nabatanzi,D., Dobbins,S., Tomkins-Tinch,C., Mboowa,G., Luebbert,L., Worby,C., Wewior,N., Samani,P., DeRuff,K., Blumenstiel,B., Moreno,G., Earl,A., Gnirke,A., MacInnis,B., Sabeti,P., Lemieux,J., Park,D.                                                                                                                                                                                                                                  \n",
       "14 NA                                                                                                                                                                                                                                                                                                                                                                                                                                                                        \n",
       "15 Tallon,L., Sadzewicz,L., Vavikolanu,K., Mehta,A., Aluvathingal,J., Nadendla,S., Myers,T., Yan,Y., Sichtig,H.                                                                                                                                                                                                                                                                                                                                                              \n",
       "16 Sereewit,J., Nunley,E.B., Xie,H., Roychoudhury,P., Greninger,A.L.                                                                                                                                                                                                                                                                                                                                                                                                         \n",
       "17 Sereewit,J., Xie,H., Roychoudhury,P., Greninger,A.L.                                                                                                                                                                                                                                                                                                                                                                                                                      \n",
       "18 Paull,J., Messer,K., Adams,G., Nabatanzi,D., Dobbins,S., Tomkins-Tinch,C., Mboowa,G., Luebbert,L., Worby,C., Wewior,N., Samani,P., DeRuff,K., Blumenstiel,B., Moreno,G., Earl,A., Gnirke,A., MacInnis,B., Sabeti,P., Lemieux,J., Park,D.                                                                                                                                                                                                                                  \n",
       "19 Gigante,C.M., Xia,D., Zhao,H., Batra,D., Hetrick,E.E., Howard,D.T., Kovar,L., Seabolt,M.H., Weigand,M.R., Burroughs,M., Lee,J., Wilkins,K., McCollum,A., Hutson,C., Davidson,W., Rao,A., Plipat,N., Li,Y.                                                                                                                                                                                                                                                                 \n",
       "20 NA                                                                                                                                                                                                                                                                                                                                                                                                                                                                        \n",
       "21 Poklepovich Caride J,T., Lorenzo,F.                                                                                                                                                                                                                                                                                                                                                                                                                                       \n",
       "22 Gigante,C., Ruiz,V., Zhao,H., Batra,D., Hetrick,E., Howard,D., Kovar,L., Seabolt,M., Morrison,S., Desch,M., Knipe,K., Weigand,M., Sheth,M., Burgin,A., Burroughs,M., Lee,J., Wilkins,K., McCollum,A., Hutson,C., Davidson,W., Rao,A., Wang,J., Li,Y.                                                                                                                                                                                                                      \n",
       "23 Rios,M., Fares-Gusmao,R., Volkova,E., Grinev,A., Assis,F., Chancey,C., Ok,S., Rocha,B., Sippert,E., Tallon,L., Sadzewicz,L., Vavikolanu,K., Mehta,A., Aluvathingal,J., Nadendla,S., Yan,Y., Sichtig,H.                                                                                                                                                                                                                                                                    \n",
       "24 Aufderhar,M., Franzen,K., Killian,M., Lantz,K., Stuber,T., Hicks,J., Norris,C., Lakin,S.                                                                                                                                                                                                                                                                                                                                                                                  \n",
       "25 Nguyen,T., Hutter,C., Markin,A., Thomas,M., Lantz,K., Killian,M.L., Janzen,G.M., Vijendran,S., Wagle,S., Inderski,B., Magstadt,D.R., Li,G., Diel,D.G., Frye,E.A., Dimitrov,K.M., Swinford,A.K., Thompson,A.C., Snevik,K.R., Suarez,D.L., Spackman,E., Lakin,S.M., C,S., Johnson,K.R., Baker,A.L., Robbe-Austerman,S., Torchetti,M.K., Anderson,T.K., Anderson,T.                                                                                                          \n",
       "26 Gigante,C., Hottel,W., Zhao,H., Batra,D., Hetrick,E., Howard,D., Kovar,L., Seabolt,M., Morrison,S., Desch,M., Knipe,K., Weigand,M., Sheth,M., Burgin,A., Burroughs,M., Lee,J., Wilkins,K., McCollum,A., Hutson,C., Davidson,W., Rao,A., Nelson,M., Li,Y.                                                                                                                                                                                                                  \n",
       "27 Goya,S., Sereewit,J., Pfalmer,D., Nguyen,T., Bakhash,S.A.K.M., Sobolik,E.B., Greninger,A.L.                                                                                                                                                                                                                                                                                                                                                                               \n",
       "28 Cuesta,I.                                                                                                                                                                                                                                                                                                                                                                                                                                                                 \n",
       "29 Aufderhar,M., Franzen,K., Killian,M.L., Lantz,K., Stuber,T., Hicks,J., Norris,C., Lakin,S.                                                                                                                                                                                                                                                                                                                                                                                \n",
       "30 Rossi,S.L., Guerbois,M., Forrester,N.L., Ksiazek,T., Lin,D., Hari,K., Weaver,S.C.                                                                                                                                                                                                                                                                                                                                                                                         \n",
       "   Organization                                                                                                                    \n",
       "1  UW Virology, Laboratory Medicine                                                                                                \n",
       "2  US Food and Drug Administration, Center for Devices and Radiological Health                                                     \n",
       "3  Shinjuku, Tokyo 162-8640                                                                                                        \n",
       "4  US Food and Drug Administration, Center for Devices and Radiological Health                                                     \n",
       "5  UW Virology, Laboratory Medicine                                                                                                \n",
       "6  CDC, DHCPP-PRB                                                                                                                  \n",
       "7  CDC, DHCPP-PRB                                                                                                                  \n",
       "8  SIB, Ch. des Mines 9                                                                                                            \n",
       "9  UW Virology, Laboratory Medicine                                                                                                \n",
       "10 USDA Animal Plant Health Inspection Service-National Veterinary Services Laboratories, National Veterinary Services Laboratories\n",
       "11 African Centre of Excellence for Genomics of Infectious Diseases(ACEGID), Redeemer's University, Biological Sciences            \n",
       "12 US Food and Drug Administration, Center for Devices and Radiological Health                                                     \n",
       "13 Broad Institute of MIT and Harvard, Infectious Disease and Microbiome Program                                                   \n",
       "14 Shinjuku, Tokyo 162-8640                                                                                                        \n",
       "15 US Food and Drug Administration, Center for Devices and Radiological Health                                                     \n",
       "16 University of Washington Dept. Laboratory Medicine and Pathology, Virology Division                                             \n",
       "17 UW Virology, Laboratory Medicine                                                                                                \n",
       "18 Broad Institute of MIT and Harvard, Infectious Disease and Microbiome Program                                                   \n",
       "19 CDC, DHCPP-PRB                                                                                                                  \n",
       "20 SIB, Ch. des Mines 9                                                                                                            \n",
       "21 ANLIS Malbran, Avenida Velez Sarsfield 563, CABA                                                                                \n",
       "22 CDC, DHCPP-PRB                                                                                                                  \n",
       "23 US Food and Drug Administration, Center for Devices and Radiological Health                                                     \n",
       "24 USDA Animal Plant Health Inspection Service-National Veterinary Services Laboratories, National Veterinary Services Laboratories\n",
       "25 National Animal Disease Center, USDA-ARS                                                                                        \n",
       "26 CDC, DHCPP-PRB                                                                                                                  \n",
       "27 UW Virology, Laboratory Medicine                                                                                                \n",
       "28 Institute of Health Carlos III, Bioinformatics Unit, Carretera Majadahonda-Pozuelo km2                                          \n",
       "29 USDA Animal Plant Health Inspection Service-National Veterinary Services Laboratories, National Veterinary Services Laboratories\n",
       "30 University of Texas Medical Branch, Microbiology and Immunology                                                                 \n",
       "   Org_location Release_Date Isolate                          ⋯\n",
       "1  USA          2022-10-13   MpxV/human/USA/WA-UW-086630/2022 ⋯\n",
       "2  USA          2022-07-30   Josiah                           ⋯\n",
       "3  Japan        2025-05-23   hMpoxV/Japan/MX23-022-02/2023    ⋯\n",
       "4  USA          2022-07-30   WRAIR 7-61                       ⋯\n",
       "5  NA           2022-09-08   MpxV/human/USA/WA-UW-085462/2022 ⋯\n",
       "6  USA          2022-09-06   MPXV_USA_2022_GA0013             ⋯\n",
       "7  USA          2022-08-10   MPXV_USA_2022_CO0002             ⋯\n",
       "8  Switzerland  2021-12-18   VD-CHUV-GEN8857                  ⋯\n",
       "9  USA          2023-02-28   MpxV/human/USA/WA-UW-086924/2022 ⋯\n",
       "10 USA          2025-02-21   24-038978-002-original           ⋯\n",
       "11 Nigeria      2023-04-26   a0423                            ⋯\n",
       "12 USA          2022-07-30   USA-2003                         ⋯\n",
       "13 USA          2025-03-07   MA-Broad_MGH-23111               ⋯\n",
       "14 Japan        2025-05-23   hMpoxV/Japan/MX23-023-01/2023    ⋯\n",
       "15 USA          2022-07-30   IbAr10200                        ⋯\n",
       "16 USA          2023-11-13   MpxV/human/USA/WA-UW-101148/2023 ⋯\n",
       "17 USA          2022-09-15   MpxV/human/USA/WA-UW-088793/2022 ⋯\n",
       "18 USA          2025-04-11   MA-Broad_MGH-23688               ⋯\n",
       "19 USA          2022-10-10   MPXV_USA_2022_PA0007             ⋯\n",
       "20 Switzerland  2022-01-17   AI-CLM-01054488                  ⋯\n",
       "21 Argentina    2024-05-31   INEI111361                       ⋯\n",
       "22 USA          2023-02-18   MPXV_USA_2022_NY0040             ⋯\n",
       "23 USA          2022-07-30   BSL107-12                        ⋯\n",
       "24 USA          2025-01-03   24-037225-022-original           ⋯\n",
       "25 USA          2024-05-03   NA                               ⋯\n",
       "26 USA          2022-12-15   MPXV_USA_2022_IA0001             ⋯\n",
       "27 USA          2022-12-04   hRSV/A/USA/2022DT79D/2022        ⋯\n",
       "28 Spain        2022-10-06   MPXV_419_SP_2022                 ⋯\n",
       "29 USA          2025-02-21   25-000082-002-original           ⋯\n",
       "30 USA          2017-03-25   Guinea Faranah                   ⋯\n",
       "   Affection_Status Analyte_Type Histological_Type Body_Site\n",
       "1                                                           \n",
       "2                                                           \n",
       "3                                                           \n",
       "4                                                           \n",
       "5                                                           \n",
       "6                                                           \n",
       "7                                                           \n",
       "8                                                           \n",
       "9                                                           \n",
       "10                                                          \n",
       "11                                                          \n",
       "12                                                          \n",
       "13                                                          \n",
       "14                                                          \n",
       "15                                                          \n",
       "16                                                          \n",
       "17                                                          \n",
       "18                                                          \n",
       "19                                                          \n",
       "20                                                          \n",
       "21                                                          \n",
       "22                                                          \n",
       "23                                                          \n",
       "24                                                          \n",
       "25                                                          \n",
       "26                                                          \n",
       "27                                                          \n",
       "28                                                          \n",
       "29                                                          \n",
       "30                                                          \n",
       "   CenterName                                                                                     \n",
       "1  ALEX                                                                                           \n",
       "2  UMIGS                                                                                          \n",
       "3  REPOSITORY OF DATA AND BIOSPECIMEN OF INFECTIOUS D                                             \n",
       "4  UMIGS                                                                                          \n",
       "5  ALEX                                                                                           \n",
       "6  CDC-DHCPP-PRB                                                                                  \n",
       "7  CDC-DHCPP-PRB                                                                                  \n",
       "8  LABORATORY OF GENOMICS AND METAGENOMICS, INSTITUTE                                             \n",
       "9  ALEX                                                                                           \n",
       "10 USDA-NVSL                                                                                      \n",
       "11 AFRICAN CENTRE OF EXCELLENCE FOR GENOMICS OF INFECTIOUS DISEASES(ACEGID), REDEEMER'S UNIVERSITY\n",
       "12 UMIGS                                                                                          \n",
       "13 BROAD_GCID                                                                                     \n",
       "14 REPOSITORY OF DATA AND BIOSPECIMEN OF INFECTIOUS D                                             \n",
       "15 UMIGS                                                                                          \n",
       "16 ALEX                                                                                           \n",
       "17 ALEX                                                                                           \n",
       "18 BROAD_GCID                                                                                     \n",
       "19 CDC-DHCPP-PRB                                                                                  \n",
       "20 CENTER FOR LABORATORY MEDICINE ST. GALLEN                                                      \n",
       "21 ANLIS MALBRAN                                                                                  \n",
       "22 CDC-DHCPP-PRB                                                                                  \n",
       "23 UMIGS                                                                                          \n",
       "24 USDA-NVSL                                                                                      \n",
       "25 USDA-NVSL                                                                                      \n",
       "26 CDC-DHCPP-PRB                                                                                  \n",
       "27 ALEX                                                                                           \n",
       "28 INSTITUTE OF HEALTH CARLOS III                                                                 \n",
       "29 USDA-NVSL                                                                                      \n",
       "30 CBIO INC                                                                                       \n",
       "   Submission  dbgap_study_accession Consent RunHash                         \n",
       "1  SRA1519228                        public  35039B00755AADF4210C1992F98DBDFE\n",
       "2  SRA949279                         public  48706EF4B0AAE225EE572EAADA423F0B\n",
       "3  DRA020242                         public  C698661B7E80095225E789CDDC09DE5B\n",
       "4  SRA949279                         public  863F0C2D4D63D5AB3DEF3597D27BD0ED\n",
       "5  SRA1494719                        public  24EDEE1FB2E6EB1F62AC6BDF0BF4339D\n",
       "6  SRA1504797                        public  E6637DC54FFA14AEAC1341ECD9F5B88C\n",
       "7  SRA1507542                        public  66A29AD97DCA92BA6442B46E4AB1EEEC\n",
       "8  ERA9013651                        public  FB87549C872AD2AE9391839BBFDF2A49\n",
       "9  SRA1593903                        public  D422D5BF76A63726DF4FE6FE7CEFC583\n",
       "10 SRA2051688                        public  AFF00681CB967F3824CB8BC6B5C5A75F\n",
       "11 SRA1563049                        public  BC0F4546D71F48F2F400C9920A4BEC11\n",
       "12 SRA949279                         public  90F340D6BEA15ABF368A03E71DD4C8ED\n",
       "13 SRA2088832                        public  14E35036BE7E180EE4E204BB2F71E58D\n",
       "14 DRA020242                         public  1039C3B64C6F066EC811DC36BB657FB0\n",
       "15 SRA949279                         public  AB01F64AE1C71AE2A7EE69488F184328\n",
       "16 SRA1744540                        public  D3716744C16EDA95987566499C2D64ED\n",
       "17 SRA1494719                        public  C337A35F56877F51C5A112891BE1A203\n",
       "18 SRA2109197                        public  FDE62BAEE70CDB5F65DF1DB048AE394F\n",
       "19 SRA1515785                        public  7E8B877A3F6A7124DFFB33F8760065B6\n",
       "20 ERA9144680                        public  3E533A6D0CE841779F2DE320954D4157\n",
       "21 ERA30464054                       public  8B3F7F57E5A4624ECA8117BB7F72D7E2\n",
       "22 SRA1584081                        public  9CC149ED2546734727CC8D9DCFDC1B99\n",
       "23 SRA949279                         public  4DF6A89233E5052276A4EED9289814AC\n",
       "24 SRA2040783                        public  3A6854373660BB64A3B5640D40EB81AA\n",
       "25 SRA1849807                        public  6163C8D946004E8AA4919790BE02DF90\n",
       "26 SRA1558291                        public  8A04678FAB83089DDB0CDC29831DC2BB\n",
       "27 SRA1556179                        public  27729F0975D6E9111B3A61505A84B884\n",
       "28 ERA18504704                       public  90BC2642B7191C43CF9771F5407692E4\n",
       "29 SRA2051688                        public  ABC96DFE798DF1D1CBFA799638210056\n",
       "30 SRA379491                         public  9B105070592B10487CA54ACF6679964B\n",
       "   ReadHash                        \n",
       "1  6C49ED2E18AFD25BE3B76C4A94BD244F\n",
       "2  38260E1B171E9A752F5C5603CCAAAD0E\n",
       "3  8C1C34F2ECE5F74442A7324854E18135\n",
       "4  B617A70B9DE827EF15ACEA93EBD19168\n",
       "5  357E99C832B8DCF8D07200A9FC88A03B\n",
       "6  E5005AA099BF221161F1B11C9FD7A5F6\n",
       "7  1397041F89C61B1901C7E834ACA4AAE4\n",
       "8  99FFAC0B0307AB96992B152B80CE6CD9\n",
       "9  1CD8387AB23EA269FFC64693D5348E56\n",
       "10 9BF118F293C7D0A49A28DC2983964416\n",
       "11 13C90D00502F73959C6259EF11C27670\n",
       "12 0BAFA24639735CE55EB4CC866E1201D3\n",
       "13 CBE14ECC81D0F6637CE9BAAA3AC094AA\n",
       "14 2EF0FC54373D5CB82FEC9E5743991B78\n",
       "15 AB8E4D332ED9F7F7BD482017E449F78B\n",
       "16 7C9A86EED7FBE5DBBCBD04E2189C0077\n",
       "17 0307FAB1B25554F6BB6998C7E3055B7F\n",
       "18 103A2DDA9BFBB29C9979D38C36B8FB8C\n",
       "19 419C45BAE7E037F4B3E44E510F833058\n",
       "20 5272CA5861BC58F4FCD53153B50BFEE2\n",
       "21 DC6387D1A342BEC301367E097C07DE0F\n",
       "22 E71364CB0323F6FEE1481BE121B93537\n",
       "23 7EF4289A33DD4CBAFD5B558249F8ADB1\n",
       "24 0E9744994EEE70EED422EAC6079121FE\n",
       "25 2EAAB691F5CAE5F22E4B143304796945\n",
       "26 94C35CF2D5AB102DD614CD8DE64DDB24\n",
       "27 92965CD8811D79DEF3B42AC12CD1D12A\n",
       "28 E13BABF3CFB999F20A12E81FC74D55B1\n",
       "29 104846420EACB2F211E0E643B46D8E19\n",
       "30 27C68DCCED7D7FE2D18DD2CEAC0CEAFE"
      ]
     },
     "metadata": {},
     "output_type": "display_data"
    }
   ],
   "source": [
    "sequences %>% merge( runInfo, by.x = \"SRA_Accession\", by.y = \"Run\")%>%\n",
    "    filter(Platform == \"ILLUMINA\", LibraryStrategy !=\"AMPLICON\")%>%\n",
    "    mutate(Organism_Name=gsub(\"Mammarenavirus lassaense\",\"Lassa mammarenavirus\",Organism_Name))%>%\n",
    "    sample_n(30)\n"
   ]
  }
 ],
 "metadata": {
  "kernelspec": {
   "display_name": "R",
   "language": "R",
   "name": "ir"
  },
  "language_info": {
   "codemirror_mode": "r",
   "file_extension": ".r",
   "mimetype": "text/x-r-source",
   "name": "R",
   "pygments_lexer": "r",
   "version": "4.2.1"
  }
 },
 "nbformat": 4,
 "nbformat_minor": 5
}
